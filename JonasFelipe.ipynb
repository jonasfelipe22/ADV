{
  "nbformat": 4,
  "nbformat_minor": 2,
  "metadata": {
    "language_info": {
      "codemirror_mode": {
        "name": "ipython",
        "version": 3
      },
      "file_extension": ".py",
      "mimetype": "text/x-python",
      "name": "python",
      "nbconvert_exporter": "python",
      "pygments_lexer": "ipython3",
      "version": "3.8.8"
    },
    "orig_nbformat": 4,
    "kernelspec": {
      "name": "python3",
      "display_name": "Python 3.8.8 64-bit ('base': conda)"
    },
    "interpreter": {
      "hash": "a927df1c454baf2e029b41597da70c29fdc6e08f150c40e418cdd087fe40ab12"
    },
    "colab": {
      "name": "Cópia de JonasFelipe.ipynb",
      "provenance": [],
      "collapsed_sections": []
    }
  },
  "cells": [
    {
      "cell_type": "markdown",
      "source": [
        "#  *Estudo* em data Science Jonas Felipe Barros Silva\r\n",
        "# Feito no Jupyter no VScode"
      ],
      "metadata": {
        "id": "8SGrOR12fpX6"
      }
    },
    {
      "cell_type": "markdown",
      "source": [
        "1.\tContextualização, motivação, importância\n",
        "O estudo desse projeto visa encontrar a demanda de produtos ,a fim de conseguir estabelecer quais os mais vendidos, e no fim estimar quais serão os proximos produtos a serem vendidos "
      ],
      "metadata": {
        "id": "jOgwhiSxfpX_"
      }
    },
    {
      "cell_type": "markdown",
      "source": [
        "2. Base de dados \n",
        "A base de dados agora é um arquivo CSV 'BD.csv'  de 9800 linhas com vendas de uma loja de artigos nos EUA de 2015 ate 2018. Esse arquivo será modificadon e tratado na analise exploratoria.\n",
        "Vou usar a lib panda para importar os dados, como vemos no exemplo abaixo.\n"
      ],
      "metadata": {
        "id": "N0mpndMSfpX_"
      }
    },
    {
      "cell_type": "markdown",
      "source": [
        "# **Análise Exploratória**"
      ],
      "metadata": {
        "id": "ZPHkKL5O5U5-"
      }
    },
    {
      "cell_type": "markdown",
      "source": [
        "#https://drive.google.com/file/d/1dxvMs9imkXDZVA7G8T27uLQXct3jfp-p/view?usp=sharing\n",
        "Passar para pasta do Colab \n",
        "\n"
      ],
      "metadata": {
        "id": "6Hx9wZHiTgIx"
      }
    },
    {
      "cell_type": "code",
      "execution_count": 11,
      "source": [
        "import pandas as pd\r\n",
        "import numpy as np\r\n",
        "import matplotlib as mpl\r\n",
        "BD = pd.read_csv('BD.csv')\r\n",
        "print (BD)\r\n"
      ],
      "outputs": [
        {
          "output_type": "stream",
          "name": "stdout",
          "text": [
            "      Row ID        Order ID  Order Date   Ship Date       Ship Mode  \\\n",
            "0          1  CA-2017-152156  08/11/2017  11/11/2017    Second Class   \n",
            "1          2  CA-2017-152156  08/11/2017  11/11/2017    Second Class   \n",
            "2          3  CA-2017-138688  12/06/2017  16/06/2017    Second Class   \n",
            "3          4  US-2016-108966  11/10/2016  18/10/2016  Standard Class   \n",
            "4          5  US-2016-108966  11/10/2016  18/10/2016  Standard Class   \n",
            "...      ...             ...         ...         ...             ...   \n",
            "9795    9796  CA-2017-125920  21/05/2017  28/05/2017  Standard Class   \n",
            "9796    9797  CA-2016-128608  12/01/2016  17/01/2016  Standard Class   \n",
            "9797    9798  CA-2016-128608  12/01/2016  17/01/2016  Standard Class   \n",
            "9798    9799  CA-2016-128608  12/01/2016  17/01/2016  Standard Class   \n",
            "9799    9800  CA-2016-128608  12/01/2016  17/01/2016  Standard Class   \n",
            "\n",
            "     Customer ID     Customer Name    Segment        Country             City  \\\n",
            "0       CG-12520       Claire Gute   Consumer  United States        Henderson   \n",
            "1       CG-12520       Claire Gute   Consumer  United States        Henderson   \n",
            "2       DV-13045   Darrin Van Huff  Corporate  United States      Los Angeles   \n",
            "3       SO-20335    Sean O'Donnell   Consumer  United States  Fort Lauderdale   \n",
            "4       SO-20335    Sean O'Donnell   Consumer  United States  Fort Lauderdale   \n",
            "...          ...               ...        ...            ...              ...   \n",
            "9795    SH-19975     Sally Hughsby  Corporate  United States          Chicago   \n",
            "9796    CS-12490  Cindy Schnelling  Corporate  United States           Toledo   \n",
            "9797    CS-12490  Cindy Schnelling  Corporate  United States           Toledo   \n",
            "9798    CS-12490  Cindy Schnelling  Corporate  United States           Toledo   \n",
            "9799    CS-12490  Cindy Schnelling  Corporate  United States           Toledo   \n",
            "\n",
            "           State  Postal Code   Region       Product ID         Category  \\\n",
            "0       Kentucky      42420.0    South  FUR-BO-10001798        Furniture   \n",
            "1       Kentucky      42420.0    South  FUR-CH-10000454        Furniture   \n",
            "2     California      90036.0     West  OFF-LA-10000240  Office Supplies   \n",
            "3        Florida      33311.0    South  FUR-TA-10000577        Furniture   \n",
            "4        Florida      33311.0    South  OFF-ST-10000760  Office Supplies   \n",
            "...          ...          ...      ...              ...              ...   \n",
            "9795    Illinois      60610.0  Central  OFF-BI-10003429  Office Supplies   \n",
            "9796        Ohio      43615.0     East  OFF-AR-10001374  Office Supplies   \n",
            "9797        Ohio      43615.0     East  TEC-PH-10004977       Technology   \n",
            "9798        Ohio      43615.0     East  TEC-PH-10000912       Technology   \n",
            "9799        Ohio      43615.0     East  TEC-AC-10000487       Technology   \n",
            "\n",
            "     Sub-Category                                       Product Name     Sales  \n",
            "0       Bookcases                  Bush Somerset Collection Bookcase  261.9600  \n",
            "1          Chairs  Hon Deluxe Fabric Upholstered Stacking Chairs,...  731.9400  \n",
            "2          Labels  Self-Adhesive Address Labels for Typewriters b...   14.6200  \n",
            "3          Tables      Bretford CR4500 Series Slim Rectangular Table  957.5775  \n",
            "4         Storage                     Eldon Fold 'N Roll Cart System   22.3680  \n",
            "...           ...                                                ...       ...  \n",
            "9795      Binders  Cardinal HOLDit! Binder Insert Strips,Extra St...    3.7980  \n",
            "9796          Art           BIC Brite Liner Highlighters, Chisel Tip   10.3680  \n",
            "9797       Phones                                        GE 30524EE4  235.1880  \n",
            "9798       Phones           Anker 24W Portable Micro USB Car Charger   26.3760  \n",
            "9799  Accessories                SanDisk Cruzer 4 GB USB Flash Drive   10.3840  \n",
            "\n",
            "[9800 rows x 18 columns]\n"
          ]
        }
      ],
      "metadata": {
        "colab": {
          "base_uri": "https://localhost:8080/"
        },
        "id": "AnrJ7y6gfpYB",
        "outputId": "fa26f588-94f5-4d16-bd53-2f35e23cf33d"
      }
    },
    {
      "cell_type": "markdown",
      "source": [
        "3.\tIndicar o seu objetivo (qual a contribuição pretendida)? \n",
        "Analise de vendas e conseguir prever os proximos produtos a serem vendidos, tambem conseguir criar uma proporçao de saida de vendas."
      ],
      "metadata": {
        "id": "wXdsINHPfpYE"
      }
    },
    {
      "cell_type": "markdown",
      "source": [
        " Análise Exploratória:"
      ],
      "metadata": {
        "id": "S-cNK-1wfpYF"
      }
    },
    {
      "cell_type": "markdown",
      "source": [
        "1.\tExistem valores faltantes? Como foram tratados? Todas as informaçoes são relevantes ? \n",
        "\n",
        "Como são dados de coleçao de vendas, todo e qualquer dado, faltante iremos excluir a linha, vide que vamos analisar todas as linhas que estão faltando dados e ver as coorelaçes entre elas e verificar se essas linhas já não estavam completas na base de dados ultilizaremos a panda"
      ],
      "metadata": {
        "id": "qR7rcXF8fpYF"
      }
    },
    {
      "cell_type": "code",
      "execution_count": 12,
      "source": [
        "\r\n",
        "BD2 = BD.dropna()\r\n",
        "print(BD2)"
      ],
      "outputs": [
        {
          "output_type": "stream",
          "name": "stdout",
          "text": [
            "      Row ID        Order ID  Order Date   Ship Date       Ship Mode  \\\n",
            "0          1  CA-2017-152156  08/11/2017  11/11/2017    Second Class   \n",
            "1          2  CA-2017-152156  08/11/2017  11/11/2017    Second Class   \n",
            "2          3  CA-2017-138688  12/06/2017  16/06/2017    Second Class   \n",
            "3          4  US-2016-108966  11/10/2016  18/10/2016  Standard Class   \n",
            "4          5  US-2016-108966  11/10/2016  18/10/2016  Standard Class   \n",
            "...      ...             ...         ...         ...             ...   \n",
            "9795    9796  CA-2017-125920  21/05/2017  28/05/2017  Standard Class   \n",
            "9796    9797  CA-2016-128608  12/01/2016  17/01/2016  Standard Class   \n",
            "9797    9798  CA-2016-128608  12/01/2016  17/01/2016  Standard Class   \n",
            "9798    9799  CA-2016-128608  12/01/2016  17/01/2016  Standard Class   \n",
            "9799    9800  CA-2016-128608  12/01/2016  17/01/2016  Standard Class   \n",
            "\n",
            "     Customer ID     Customer Name    Segment        Country             City  \\\n",
            "0       CG-12520       Claire Gute   Consumer  United States        Henderson   \n",
            "1       CG-12520       Claire Gute   Consumer  United States        Henderson   \n",
            "2       DV-13045   Darrin Van Huff  Corporate  United States      Los Angeles   \n",
            "3       SO-20335    Sean O'Donnell   Consumer  United States  Fort Lauderdale   \n",
            "4       SO-20335    Sean O'Donnell   Consumer  United States  Fort Lauderdale   \n",
            "...          ...               ...        ...            ...              ...   \n",
            "9795    SH-19975     Sally Hughsby  Corporate  United States          Chicago   \n",
            "9796    CS-12490  Cindy Schnelling  Corporate  United States           Toledo   \n",
            "9797    CS-12490  Cindy Schnelling  Corporate  United States           Toledo   \n",
            "9798    CS-12490  Cindy Schnelling  Corporate  United States           Toledo   \n",
            "9799    CS-12490  Cindy Schnelling  Corporate  United States           Toledo   \n",
            "\n",
            "           State  Postal Code   Region       Product ID         Category  \\\n",
            "0       Kentucky      42420.0    South  FUR-BO-10001798        Furniture   \n",
            "1       Kentucky      42420.0    South  FUR-CH-10000454        Furniture   \n",
            "2     California      90036.0     West  OFF-LA-10000240  Office Supplies   \n",
            "3        Florida      33311.0    South  FUR-TA-10000577        Furniture   \n",
            "4        Florida      33311.0    South  OFF-ST-10000760  Office Supplies   \n",
            "...          ...          ...      ...              ...              ...   \n",
            "9795    Illinois      60610.0  Central  OFF-BI-10003429  Office Supplies   \n",
            "9796        Ohio      43615.0     East  OFF-AR-10001374  Office Supplies   \n",
            "9797        Ohio      43615.0     East  TEC-PH-10004977       Technology   \n",
            "9798        Ohio      43615.0     East  TEC-PH-10000912       Technology   \n",
            "9799        Ohio      43615.0     East  TEC-AC-10000487       Technology   \n",
            "\n",
            "     Sub-Category                                       Product Name     Sales  \n",
            "0       Bookcases                  Bush Somerset Collection Bookcase  261.9600  \n",
            "1          Chairs  Hon Deluxe Fabric Upholstered Stacking Chairs,...  731.9400  \n",
            "2          Labels  Self-Adhesive Address Labels for Typewriters b...   14.6200  \n",
            "3          Tables      Bretford CR4500 Series Slim Rectangular Table  957.5775  \n",
            "4         Storage                     Eldon Fold 'N Roll Cart System   22.3680  \n",
            "...           ...                                                ...       ...  \n",
            "9795      Binders  Cardinal HOLDit! Binder Insert Strips,Extra St...    3.7980  \n",
            "9796          Art           BIC Brite Liner Highlighters, Chisel Tip   10.3680  \n",
            "9797       Phones                                        GE 30524EE4  235.1880  \n",
            "9798       Phones           Anker 24W Portable Micro USB Car Charger   26.3760  \n",
            "9799  Accessories                SanDisk Cruzer 4 GB USB Flash Drive   10.3840  \n",
            "\n",
            "[9789 rows x 18 columns]\n"
          ]
        }
      ],
      "metadata": {
        "id": "l49nKooQfpYG",
        "colab": {
          "base_uri": "https://localhost:8080/"
        },
        "outputId": "5cf09458-85b3-483b-c786-d8182b1b1500"
      }
    },
    {
      "cell_type": "markdown",
      "source": [
        "com isso nosso banco de dados reduziu para 7343 linhas.\n",
        "Como vou relevar alguns dados para a analise , vou remover primeiramente dados irrelevantes para nossa analise e depois vou tratar os dados novamente, e verificar se não perdi muitas amostras ja mostrando que a simples falta de dados podem fazer com o nosso objetivo final , \n",
        "Vamos remover Order ID , Order Date ,Ship Mode,Customer ID,Customer Name,Segment,Country,City,State,Postal Code,Region"
      ],
      "metadata": {
        "id": "wTR9vkFPfpYH"
      }
    },
    {
      "cell_type": "code",
      "execution_count": 13,
      "source": [
        "\r\n",
        "BD3 = BD.drop(columns=[\"Order ID\", \"Order Date\", \"Ship Mode\", \"Customer ID\", \"Customer Name\", \"Segment\", \"Country\", \"City\", \"State\", \"Postal Code\", \"Region\"])\r\n"
      ],
      "outputs": [],
      "metadata": {
        "id": "NcBd24b8fpYH"
      }
    },
    {
      "cell_type": "markdown",
      "source": [
        "Apos vou refazer o processo de pagar dados invalidos"
      ],
      "metadata": {
        "id": "5160bFkRfpYI"
      }
    },
    {
      "cell_type": "code",
      "execution_count": 14,
      "source": [
        "BD3=BD3.dropna()\r\n",
        "print(BD3)\r\n"
      ],
      "outputs": [
        {
          "output_type": "stream",
          "name": "stdout",
          "text": [
            "      Row ID   Ship Date       Product ID         Category Sub-Category  \\\n",
            "0          1  11/11/2017  FUR-BO-10001798        Furniture    Bookcases   \n",
            "1          2  11/11/2017  FUR-CH-10000454        Furniture       Chairs   \n",
            "2          3  16/06/2017  OFF-LA-10000240  Office Supplies       Labels   \n",
            "3          4  18/10/2016  FUR-TA-10000577        Furniture       Tables   \n",
            "4          5  18/10/2016  OFF-ST-10000760  Office Supplies      Storage   \n",
            "...      ...         ...              ...              ...          ...   \n",
            "9795    9796  28/05/2017  OFF-BI-10003429  Office Supplies      Binders   \n",
            "9796    9797  17/01/2016  OFF-AR-10001374  Office Supplies          Art   \n",
            "9797    9798  17/01/2016  TEC-PH-10004977       Technology       Phones   \n",
            "9798    9799  17/01/2016  TEC-PH-10000912       Technology       Phones   \n",
            "9799    9800  17/01/2016  TEC-AC-10000487       Technology  Accessories   \n",
            "\n",
            "                                           Product Name     Sales  \n",
            "0                     Bush Somerset Collection Bookcase  261.9600  \n",
            "1     Hon Deluxe Fabric Upholstered Stacking Chairs,...  731.9400  \n",
            "2     Self-Adhesive Address Labels for Typewriters b...   14.6200  \n",
            "3         Bretford CR4500 Series Slim Rectangular Table  957.5775  \n",
            "4                        Eldon Fold 'N Roll Cart System   22.3680  \n",
            "...                                                 ...       ...  \n",
            "9795  Cardinal HOLDit! Binder Insert Strips,Extra St...    3.7980  \n",
            "9796           BIC Brite Liner Highlighters, Chisel Tip   10.3680  \n",
            "9797                                        GE 30524EE4  235.1880  \n",
            "9798           Anker 24W Portable Micro USB Car Charger   26.3760  \n",
            "9799                SanDisk Cruzer 4 GB USB Flash Drive   10.3840  \n",
            "\n",
            "[9800 rows x 7 columns]\n"
          ]
        }
      ],
      "metadata": {
        "id": "Ou8tFw6ZfpYI",
        "colab": {
          "base_uri": "https://localhost:8080/"
        },
        "outputId": "4d9b63d5-4718-4ff7-af7f-806d01b672d5"
      }
    },
    {
      "cell_type": "markdown",
      "source": [
        "Salvando CSV novo"
      ],
      "metadata": {
        "id": "Ae-GTRpcfpYI"
      }
    },
    {
      "cell_type": "code",
      "execution_count": 15,
      "source": [
        "BD3.to_csv(r'./BD3.csv', encoding='utf-8', header='true')"
      ],
      "outputs": [],
      "metadata": {
        "id": "jww67Tc3fpYJ"
      }
    },
    {
      "cell_type": "markdown",
      "source": [
        "Possuimos 7353 linhas, 10 linhas a mais se excluissimos todas as linhas com dados faltantes , mas possuimos 2.447 menos que a original , então vamosexcluir somentes dados pertinentes ou seja as que não possuem o valor , a data de entrega sera extimada nesse ponto vou traduzir o banco da dados tbm mas o valor contunuara em doolar, prmieiro vou descobrir quais valores faltam e se tem como preencher nossa base de dados\n",
        "\n"
      ],
      "metadata": {
        "id": "H5ZjrGyKfpYJ"
      }
    },
    {
      "cell_type": "code",
      "execution_count": 16,
      "source": [
        "BD.isnull().sum()\r\n"
      ],
      "outputs": [
        {
          "output_type": "execute_result",
          "data": {
            "text/plain": [
              "Row ID            0\n",
              "Order ID          0\n",
              "Order Date        0\n",
              "Ship Date         0\n",
              "Ship Mode         0\n",
              "Customer ID       0\n",
              "Customer Name     0\n",
              "Segment           0\n",
              "Country           0\n",
              "City              0\n",
              "State             0\n",
              "Postal Code      11\n",
              "Region            0\n",
              "Product ID        0\n",
              "Category          0\n",
              "Sub-Category      0\n",
              "Product Name      0\n",
              "Sales             0\n",
              "dtype: int64"
            ]
          },
          "metadata": {},
          "execution_count": 16
        }
      ],
      "metadata": {
        "id": "zO5-vpk0fpYJ",
        "colab": {
          "base_uri": "https://localhost:8080/"
        },
        "outputId": "b76415ee-c628-479d-88b7-05b9773c57ef"
      }
    },
    {
      "cell_type": "code",
      "execution_count": 17,
      "source": [
        "BD.isnull().sum()\r\n",
        "BD4 = BD.drop(columns=[\"Row ID\",\"Order ID\", \"Customer ID\", \"Segment\", \"Country\", \"State\", \"Postal Code\", \"Region\"])\r\n",
        "BD.columns"
      ],
      "outputs": [
        {
          "output_type": "execute_result",
          "data": {
            "text/plain": [
              "Index(['Row ID', 'Order ID', 'Order Date', 'Ship Date', 'Ship Mode',\n",
              "       'Customer ID', 'Customer Name', 'Segment', 'Country', 'City', 'State',\n",
              "       'Postal Code', 'Region', 'Product ID', 'Category', 'Sub-Category',\n",
              "       'Product Name', 'Sales'],\n",
              "      dtype='object')"
            ]
          },
          "metadata": {},
          "execution_count": 17
        }
      ],
      "metadata": {
        "id": "56Jq35ClfpYK",
        "colab": {
          "base_uri": "https://localhost:8080/"
        },
        "outputId": "d263ece4-0488-4745-881d-c409aaaff35c"
      }
    },
    {
      "cell_type": "markdown",
      "source": [
        "Vou Traduzir o nome das col unas e separar o mes e os anos da data de pedido"
      ],
      "metadata": {
        "id": "5yqhMf-l59ZH"
      }
    },
    {
      "cell_type": "code",
      "execution_count": 18,
      "source": [
        "\r\n",
        "BD4.columns= ['Data_ped', 'Data_env', 'Modo de envio', 'Nome do cliente',\r\n",
        "        'Cidade', 'ID do produto', 'Categoria', 'Subcategoria', 'Nome do produto',\r\n",
        "        'Vendas']\r\n",
        "BD4.info()\r\n",
        "from datetime import datetime, timedelta\r\n",
        "import matplotlib.pyplot as plt\r\n",
        "BD4['Data_ped'] = pd.to_datetime(BD4['Data_ped'], dayfirst = True)\r\n",
        "BD4['Data_env'] = pd.to_datetime(BD4['Data_env'], dayfirst = True)\r\n",
        "BD4.info()\r\n",
        "BD4['ano'] = BD4['Data_ped'].dt.year\r\n",
        "BD4['mes'] = BD4['Data_ped'].dt.month_name()\r\n",
        "BD4['dia'] = BD4['Data_ped'].dt.day\r\n",
        "BD4.info()"
      ],
      "outputs": [
        {
          "output_type": "stream",
          "name": "stdout",
          "text": [
            "<class 'pandas.core.frame.DataFrame'>\n",
            "RangeIndex: 9800 entries, 0 to 9799\n",
            "Data columns (total 10 columns):\n",
            " #   Column           Non-Null Count  Dtype  \n",
            "---  ------           --------------  -----  \n",
            " 0   Data_ped         9800 non-null   object \n",
            " 1   Data_env         9800 non-null   object \n",
            " 2   Modo de envio    9800 non-null   object \n",
            " 3   Nome do cliente  9800 non-null   object \n",
            " 4   Cidade           9800 non-null   object \n",
            " 5   ID do produto    9800 non-null   object \n",
            " 6   Categoria        9800 non-null   object \n",
            " 7   Subcategoria     9800 non-null   object \n",
            " 8   Nome do produto  9800 non-null   object \n",
            " 9   Vendas           9800 non-null   float64\n",
            "dtypes: float64(1), object(9)\n",
            "memory usage: 765.8+ KB\n",
            "<class 'pandas.core.frame.DataFrame'>\n",
            "RangeIndex: 9800 entries, 0 to 9799\n",
            "Data columns (total 10 columns):\n",
            " #   Column           Non-Null Count  Dtype         \n",
            "---  ------           --------------  -----         \n",
            " 0   Data_ped         9800 non-null   datetime64[ns]\n",
            " 1   Data_env         9800 non-null   datetime64[ns]\n",
            " 2   Modo de envio    9800 non-null   object        \n",
            " 3   Nome do cliente  9800 non-null   object        \n",
            " 4   Cidade           9800 non-null   object        \n",
            " 5   ID do produto    9800 non-null   object        \n",
            " 6   Categoria        9800 non-null   object        \n",
            " 7   Subcategoria     9800 non-null   object        \n",
            " 8   Nome do produto  9800 non-null   object        \n",
            " 9   Vendas           9800 non-null   float64       \n",
            "dtypes: datetime64[ns](2), float64(1), object(7)\n",
            "memory usage: 765.8+ KB\n",
            "<class 'pandas.core.frame.DataFrame'>\n",
            "RangeIndex: 9800 entries, 0 to 9799\n",
            "Data columns (total 13 columns):\n",
            " #   Column           Non-Null Count  Dtype         \n",
            "---  ------           --------------  -----         \n",
            " 0   Data_ped         9800 non-null   datetime64[ns]\n",
            " 1   Data_env         9800 non-null   datetime64[ns]\n",
            " 2   Modo de envio    9800 non-null   object        \n",
            " 3   Nome do cliente  9800 non-null   object        \n",
            " 4   Cidade           9800 non-null   object        \n",
            " 5   ID do produto    9800 non-null   object        \n",
            " 6   Categoria        9800 non-null   object        \n",
            " 7   Subcategoria     9800 non-null   object        \n",
            " 8   Nome do produto  9800 non-null   object        \n",
            " 9   Vendas           9800 non-null   float64       \n",
            " 10  ano              9800 non-null   int64         \n",
            " 11  mes              9800 non-null   object        \n",
            " 12  dia              9800 non-null   int64         \n",
            "dtypes: datetime64[ns](2), float64(1), int64(2), object(8)\n",
            "memory usage: 995.4+ KB\n"
          ]
        }
      ],
      "metadata": {
        "id": "EYYedfNMfpYK",
        "colab": {
          "base_uri": "https://localhost:8080/"
        },
        "outputId": "e1047688-4950-4ba3-c037-fdc746764897"
      }
    },
    {
      "cell_type": "code",
      "execution_count": 19,
      "source": [
        "BD4['dia'] = BD4['Data_ped'].dt.day"
      ],
      "outputs": [],
      "metadata": {}
    },
    {
      "cell_type": "code",
      "execution_count": 20,
      "source": [
        "BD4.head()"
      ],
      "outputs": [
        {
          "output_type": "execute_result",
          "data": {
            "text/plain": [
              "    Data_ped   Data_env   Modo de envio  Nome do cliente           Cidade  \\\n",
              "0 2017-11-08 2017-11-11    Second Class      Claire Gute        Henderson   \n",
              "1 2017-11-08 2017-11-11    Second Class      Claire Gute        Henderson   \n",
              "2 2017-06-12 2017-06-16    Second Class  Darrin Van Huff      Los Angeles   \n",
              "3 2016-10-11 2016-10-18  Standard Class   Sean O'Donnell  Fort Lauderdale   \n",
              "4 2016-10-11 2016-10-18  Standard Class   Sean O'Donnell  Fort Lauderdale   \n",
              "\n",
              "     ID do produto        Categoria Subcategoria  \\\n",
              "0  FUR-BO-10001798        Furniture    Bookcases   \n",
              "1  FUR-CH-10000454        Furniture       Chairs   \n",
              "2  OFF-LA-10000240  Office Supplies       Labels   \n",
              "3  FUR-TA-10000577        Furniture       Tables   \n",
              "4  OFF-ST-10000760  Office Supplies      Storage   \n",
              "\n",
              "                                     Nome do produto    Vendas   ano  \\\n",
              "0                  Bush Somerset Collection Bookcase  261.9600  2017   \n",
              "1  Hon Deluxe Fabric Upholstered Stacking Chairs,...  731.9400  2017   \n",
              "2  Self-Adhesive Address Labels for Typewriters b...   14.6200  2017   \n",
              "3      Bretford CR4500 Series Slim Rectangular Table  957.5775  2016   \n",
              "4                     Eldon Fold 'N Roll Cart System   22.3680  2016   \n",
              "\n",
              "        mes  dia  \n",
              "0  November    8  \n",
              "1  November    8  \n",
              "2      June   12  \n",
              "3   October   11  \n",
              "4   October   11  "
            ],
            "text/html": [
              "<div>\n",
              "<style scoped>\n",
              "    .dataframe tbody tr th:only-of-type {\n",
              "        vertical-align: middle;\n",
              "    }\n",
              "\n",
              "    .dataframe tbody tr th {\n",
              "        vertical-align: top;\n",
              "    }\n",
              "\n",
              "    .dataframe thead th {\n",
              "        text-align: right;\n",
              "    }\n",
              "</style>\n",
              "<table border=\"1\" class=\"dataframe\">\n",
              "  <thead>\n",
              "    <tr style=\"text-align: right;\">\n",
              "      <th></th>\n",
              "      <th>Data_ped</th>\n",
              "      <th>Data_env</th>\n",
              "      <th>Modo de envio</th>\n",
              "      <th>Nome do cliente</th>\n",
              "      <th>Cidade</th>\n",
              "      <th>ID do produto</th>\n",
              "      <th>Categoria</th>\n",
              "      <th>Subcategoria</th>\n",
              "      <th>Nome do produto</th>\n",
              "      <th>Vendas</th>\n",
              "      <th>ano</th>\n",
              "      <th>mes</th>\n",
              "      <th>dia</th>\n",
              "    </tr>\n",
              "  </thead>\n",
              "  <tbody>\n",
              "    <tr>\n",
              "      <th>0</th>\n",
              "      <td>2017-11-08</td>\n",
              "      <td>2017-11-11</td>\n",
              "      <td>Second Class</td>\n",
              "      <td>Claire Gute</td>\n",
              "      <td>Henderson</td>\n",
              "      <td>FUR-BO-10001798</td>\n",
              "      <td>Furniture</td>\n",
              "      <td>Bookcases</td>\n",
              "      <td>Bush Somerset Collection Bookcase</td>\n",
              "      <td>261.9600</td>\n",
              "      <td>2017</td>\n",
              "      <td>November</td>\n",
              "      <td>8</td>\n",
              "    </tr>\n",
              "    <tr>\n",
              "      <th>1</th>\n",
              "      <td>2017-11-08</td>\n",
              "      <td>2017-11-11</td>\n",
              "      <td>Second Class</td>\n",
              "      <td>Claire Gute</td>\n",
              "      <td>Henderson</td>\n",
              "      <td>FUR-CH-10000454</td>\n",
              "      <td>Furniture</td>\n",
              "      <td>Chairs</td>\n",
              "      <td>Hon Deluxe Fabric Upholstered Stacking Chairs,...</td>\n",
              "      <td>731.9400</td>\n",
              "      <td>2017</td>\n",
              "      <td>November</td>\n",
              "      <td>8</td>\n",
              "    </tr>\n",
              "    <tr>\n",
              "      <th>2</th>\n",
              "      <td>2017-06-12</td>\n",
              "      <td>2017-06-16</td>\n",
              "      <td>Second Class</td>\n",
              "      <td>Darrin Van Huff</td>\n",
              "      <td>Los Angeles</td>\n",
              "      <td>OFF-LA-10000240</td>\n",
              "      <td>Office Supplies</td>\n",
              "      <td>Labels</td>\n",
              "      <td>Self-Adhesive Address Labels for Typewriters b...</td>\n",
              "      <td>14.6200</td>\n",
              "      <td>2017</td>\n",
              "      <td>June</td>\n",
              "      <td>12</td>\n",
              "    </tr>\n",
              "    <tr>\n",
              "      <th>3</th>\n",
              "      <td>2016-10-11</td>\n",
              "      <td>2016-10-18</td>\n",
              "      <td>Standard Class</td>\n",
              "      <td>Sean O'Donnell</td>\n",
              "      <td>Fort Lauderdale</td>\n",
              "      <td>FUR-TA-10000577</td>\n",
              "      <td>Furniture</td>\n",
              "      <td>Tables</td>\n",
              "      <td>Bretford CR4500 Series Slim Rectangular Table</td>\n",
              "      <td>957.5775</td>\n",
              "      <td>2016</td>\n",
              "      <td>October</td>\n",
              "      <td>11</td>\n",
              "    </tr>\n",
              "    <tr>\n",
              "      <th>4</th>\n",
              "      <td>2016-10-11</td>\n",
              "      <td>2016-10-18</td>\n",
              "      <td>Standard Class</td>\n",
              "      <td>Sean O'Donnell</td>\n",
              "      <td>Fort Lauderdale</td>\n",
              "      <td>OFF-ST-10000760</td>\n",
              "      <td>Office Supplies</td>\n",
              "      <td>Storage</td>\n",
              "      <td>Eldon Fold 'N Roll Cart System</td>\n",
              "      <td>22.3680</td>\n",
              "      <td>2016</td>\n",
              "      <td>October</td>\n",
              "      <td>11</td>\n",
              "    </tr>\n",
              "  </tbody>\n",
              "</table>\n",
              "</div>"
            ]
          },
          "metadata": {},
          "execution_count": 20
        }
      ],
      "metadata": {
        "id": "CsA-oAx9fpYL",
        "colab": {
          "base_uri": "https://localhost:8080/",
          "height": 542
        },
        "outputId": "8f7a3a34-a75b-4cd1-e159-6c66ef13f78d"
      }
    },
    {
      "cell_type": "markdown",
      "source": [
        "Salvando o novo arquivo"
      ],
      "metadata": {
        "id": "BXYRGZOVfpYL"
      }
    },
    {
      "cell_type": "code",
      "execution_count": 21,
      "source": [
        "BD4.to_csv(r'./BD4.csv', encoding='utf-8', header='true')"
      ],
      "outputs": [],
      "metadata": {
        "id": "Uy3pMaJwfpYL"
      }
    },
    {
      "cell_type": "markdown",
      "source": [
        "2.\tIdentificação de Outliers"
      ],
      "metadata": {
        "id": "j5vHwChcfpYL"
      }
    },
    {
      "cell_type": "code",
      "execution_count": 22,
      "source": [
        "BD4.hist()"
      ],
      "outputs": [
        {
          "output_type": "execute_result",
          "data": {
            "text/plain": [
              "array([[<AxesSubplot:title={'center':'Vendas'}>,\n",
              "        <AxesSubplot:title={'center':'ano'}>],\n",
              "       [<AxesSubplot:title={'center':'dia'}>, <AxesSubplot:>]],\n",
              "      dtype=object)"
            ]
          },
          "metadata": {},
          "execution_count": 22
        },
        {
          "output_type": "display_data",
          "data": {
            "text/plain": [
              "<Figure size 432x288 with 4 Axes>"
            ],
            "image/png": "[encoded data removed]"
          },
          "metadata": {
            "needs_background": "light"
          }
        }
      ],
      "metadata": {
        "colab": {
          "base_uri": "https://localhost:8080/",
          "height": 331
        },
        "id": "LuiZDeOmDamD",
        "outputId": "79e54133-8cea-4f64-82fc-efe8f651fb5c"
      }
    },
    {
      "cell_type": "code",
      "execution_count": 23,
      "source": [
        "import seaborn as sns\r\n",
        "fig=sns.relplot(x=\"ano\", y=\"Vendas\",hue=\"mes\", data=BD4)\r\n",
        "fig.fig.set_size_inches(10,10)"
      ],
      "outputs": [
        {
          "output_type": "display_data",
          "data": {
            "text/plain": [
              "<Figure size 720x720 with 1 Axes>"
            ],
            "image/png": "[encoded data removed]"
          },
          "metadata": {
            "needs_background": "light"
          }
        }
      ],
      "metadata": {
        "id": "UZ07mUbzfpYL",
        "colab": {
          "base_uri": "https://localhost:8080/",
          "height": 650
        },
        "outputId": "9d69c554-de79-4a10-a53f-3892533df091"
      }
    },
    {
      "cell_type": "code",
      "execution_count": 24,
      "source": [
        "fig=sns.relplot(x=\"mes\", y=\"Vendas\",hue=\"ano\", data=BD4)\r\n",
        "fig.fig.set_size_inches(10,10)"
      ],
      "outputs": [
        {
          "output_type": "display_data",
          "data": {
            "text/plain": [
              "<Figure size 720x720 with 1 Axes>"
            ],
            "image/png": "[encoded data removed]"
          },
          "metadata": {
            "needs_background": "light"
          }
        }
      ],
      "metadata": {
        "colab": {
          "base_uri": "https://localhost:8080/",
          "height": 650
        },
        "id": "LEYbiL1tDby1",
        "outputId": "59151c25-b20f-4499-8ef1-bef8a402cd41"
      }
    },
    {
      "cell_type": "markdown",
      "source": [
        "Box plot antes de remover o outliers extremos"
      ],
      "metadata": {}
    },
    {
      "cell_type": "code",
      "execution_count": 25,
      "source": [
        "plt.figure(figsize=(10, 10))\r\n",
        "fig=sns.boxplot(x=\"ano\", y=\"Vendas\" ,hue='mes',data=BD4,whis=1.5)"
      ],
      "outputs": [
        {
          "output_type": "display_data",
          "data": {
            "text/plain": [
              "<Figure size 720x720 with 1 Axes>"
            ],
            "image/png": "[encoded data removed]"
          },
          "metadata": {
            "needs_background": "light"
          }
        }
      ],
      "metadata": {
        "id": "7QmbAO8OfpYM",
        "colab": {
          "base_uri": "https://localhost:8080/",
          "height": 279
        },
        "outputId": "86397401-e578-4251-c1f7-de3b78a4057a"
      }
    },
    {
      "cell_type": "markdown",
      "source": [
        "3.\tEstatística Descritiva dos Dados;"
      ],
      "metadata": {
        "id": "4xxzyg2vfpYM"
      }
    },
    {
      "cell_type": "markdown",
      "source": [
        "4.\tTécnicas de Feature Engineering utilizadas (conforme slide 08 da Aula 05);\n",
        "Tratados dados faltantes detectados outliers devo remove-los? \n",
        "Pegar esses pontos com linha de codigo "
      ],
      "metadata": {
        "id": "KZK61k8JfpYM"
      }
    },
    {
      "cell_type": "code",
      "execution_count": 26,
      "source": [
        "#Codigo https://estatsite.com.br/2020/03/23/detectando-outliers-pelo-desvio-padrao-no-python/ Yukio Editado por mim \r\n",
        "import matplotlib.pyplot as plt\r\n",
        "import statistics\r\n",
        "\r\n",
        "# inicia uma lista vazia onde colocaremos os outliers\r\n",
        "outliers = []\r\n",
        "outlier_idx =[]\r\n",
        "BD4.reset_index(drop=True, inplace=True)\r\n",
        "# desvio padrão \r\n",
        "desv_pad = statistics.stdev(BD4['Vendas'])\r\n",
        "\r\n",
        "# média dos seus dados\r\n",
        "media = statistics.mean(BD4['Vendas'])\r\n",
        "\r\n",
        "# coloca o limite que determina se é outlier\r\n",
        "limite = desv_pad * 3\r\n",
        "\r\n",
        "limite_inferior = media - limite\r\n",
        "limite_superior = media + limite\r\n",
        "\r\n",
        "# Localiza outliers e anexa à nossa lista que iniciamos sem nada\r\n",
        "for outlier in BD4['Vendas']:\r\n",
        "    if outlier > limite_superior or outlier < limite_inferior:\r\n",
        "        outliers.append(outlier)\r\n",
        "        outlier_idx.extend(BD4[BD4[\"Vendas\"]==outlier].index)\r\n",
        "\r\n",
        "# exibe a lista com os outliers\r\n",
        "print(outliers)\r\n",
        "\r\n",
        "# conta quantos elementos são outliers\r\n",
        "print('Temos ',len(outliers),'Outliers')\r\n",
        "\r\n",
        "# percentual da coluna que é outlier\r\n",
        "print('São Outiliers',len(outliers)/9800,\"%\") "
      ],
      "outputs": [
        {
          "output_type": "stream",
          "name": "stdout",
          "text": [
            "[3083.43, 8159.951999999999, 3347.37, 3059.982, 2519.958, 3991.98, 4355.168, 2396.2656, 2735.952, 6354.95, 2999.95, 7999.98, 3059.982, 2715.93, 2309.65, 4899.93, 2244.48, 3610.848, 2453.43, 3040.0, 3149.93, 2807.84, 4663.736, 2575.944, 3999.95, 2396.4, 4548.81, 8187.65, 2665.62, 11199.968, 2399.6, 22638.48, 2690.97, 2549.985, 2799.96, 2934.33, 3359.952, 4164.05, 2504.74, 2395.2, 2430.08, 2799.96, 2591.56, 3080.0, 9449.95, 2624.985, 10499.97, 4799.984, 9099.93, 4367.896, 2879.952, 2404.7039999999997, 2249.91, 2321.9, 2799.96, 3504.9, 3930.072, 2275.5, 2314.116, 2479.96, 2999.95, 2348.82, 2799.9440000000004, 4912.59, 4228.704000000001, 2357.488, 2548.56, 4158.912, 2888.127, 2254.41, 2279.96, 2793.528, 5199.96, 8399.976, 5443.96, 2152.776, 4007.84, 4164.05, 6999.96, 3266.3759999999997, 17499.95, 2887.0559999999996, 2567.84, 2399.96, 2399.96, 4416.174, 2541.98, 2573.82, 2249.91, 2625.12, 3499.93, 5399.91, 3812.97, 4499.985, 4535.976, 3404.5, 2518.29, 3357.6, 2973.32, 13999.96, 4643.8, 2803.92, 2563.056, 2939.93, 2154.9, 2678.94, 8749.95, 2239.936, 3050.3759999999997, 5083.96, 2676.672, 4899.93, 9892.74, 2621.322, 4476.8, 4305.552, 2803.92, 3785.292, 4297.644, 3406.664, 3023.928, 4404.9, 2177.584]\n",
            "Temos  123 Outliers\n",
            "São Outiliers 0.012551020408163265 %\n"
          ]
        }
      ],
      "metadata": {
        "colab": {
          "base_uri": "https://localhost:8080/"
        },
        "id": "MwZr0nKmfpYM",
        "outputId": "43bf56d9-0610-474e-dd3c-8f7c9c99eb29"
      }
    },
    {
      "cell_type": "markdown",
      "source": [
        "Drop na colunas com outliers"
      ],
      "metadata": {
        "id": "VpjGoAXDfpYN"
      }
    },
    {
      "cell_type": "code",
      "execution_count": 27,
      "source": [
        "#outlier_idx=float(outlier_idx)\r\n",
        "\r\n",
        "print(outliers)\r\n",
        "print((outlier_idx))\r\n",
        "BD4=BD4.drop(outlier_idx)"
      ],
      "outputs": [
        {
          "output_type": "stream",
          "name": "stdout",
          "text": [
            "[3083.43, 8159.951999999999, 3347.37, 3059.982, 2519.958, 3991.98, 4355.168, 2396.2656, 2735.952, 6354.95, 2999.95, 7999.98, 3059.982, 2715.93, 2309.65, 4899.93, 2244.48, 3610.848, 2453.43, 3040.0, 3149.93, 2807.84, 4663.736, 2575.944, 3999.95, 2396.4, 4548.81, 8187.65, 2665.62, 11199.968, 2399.6, 22638.48, 2690.97, 2549.985, 2799.96, 2934.33, 3359.952, 4164.05, 2504.74, 2395.2, 2430.08, 2799.96, 2591.56, 3080.0, 9449.95, 2624.985, 10499.97, 4799.984, 9099.93, 4367.896, 2879.952, 2404.7039999999997, 2249.91, 2321.9, 2799.96, 3504.9, 3930.072, 2275.5, 2314.116, 2479.96, 2999.95, 2348.82, 2799.9440000000004, 4912.59, 4228.704000000001, 2357.488, 2548.56, 4158.912, 2888.127, 2254.41, 2279.96, 2793.528, 5199.96, 8399.976, 5443.96, 2152.776, 4007.84, 4164.05, 6999.96, 3266.3759999999997, 17499.95, 2887.0559999999996, 2567.84, 2399.96, 2399.96, 4416.174, 2541.98, 2573.82, 2249.91, 2625.12, 3499.93, 5399.91, 3812.97, 4499.985, 4535.976, 3404.5, 2518.29, 3357.6, 2973.32, 13999.96, 4643.8, 2803.92, 2563.056, 2939.93, 2154.9, 2678.94, 8749.95, 2239.936, 3050.3759999999997, 5083.96, 2676.672, 4899.93, 9892.74, 2621.322, 4476.8, 4305.552, 2803.92, 3785.292, 4297.644, 3406.664, 3023.928, 4404.9, 2177.584]\n",
            "[27, 165, 251, 262, 977, 263, 318, 353, 399, 487, 509, 515, 5562, 683, 262, 977, 994, 1001, 1085, 8990, 1155, 1246, 1438, 1454, 1644, 1791, 1803, 1805, 2182, 2418, 2492, 2505, 2567, 2623, 2624, 2697, 2848, 3011, 3055, 3983, 5126, 3070, 3273, 3280, 6620, 3443, 3569, 3580, 3055, 3983, 5126, 3986, 4093, 4098, 4128, 4190, 4218, 4277, 4297, 4619, 4865, 4881, 7487, 5006, 3055, 3983, 5126, 5170, 5198, 5300, 5320, 5530, 515, 5562, 5626, 5710, 5884, 5917, 5990, 6010, 6014, 6099, 6101, 6116, 6209, 6340, 6425, 6520, 6534, 6535, 3280, 6620, 6626, 6817, 6826, 6868, 6884, 6901, 7173, 6901, 7173, 7243, 7280, 7474, 4881, 7487, 7579, 7583, 7666, 7683, 7772, 7818, 7914, 7937, 8100, 8102, 8153, 8204, 8236, 9412, 8271, 8312, 8424, 8468, 8488, 8699, 8749, 8858, 8892, 1085, 8990, 9039, 9056, 9165, 9270, 8236, 9412, 9425, 9639, 9649, 9660, 9741, 9774]\n"
          ]
        }
      ],
      "metadata": {
        "colab": {
          "base_uri": "https://localhost:8080/"
        },
        "id": "morQm36CiX2J",
        "outputId": "12702aa9-2ef4-4ca7-bdfe-0fb05782bccd"
      }
    },
    {
      "cell_type": "markdown",
      "source": [
        "##**Conclusão Análise exploratoria**#\r\n",
        " Aqui verificamos os ouliers restantes estão dentro de nossa proposta como visto divididos por mês ainda possuimos bastantes mas era experado que se ocorresem vendas inesperadas durante alguns meses do ano, e esses valores fazem parte da nossa analise "
      ],
      "metadata": {
        "id": "jw2ZZennfpYN"
      }
    },
    {
      "cell_type": "code",
      "execution_count": 28,
      "source": [
        "plt.figure(figsize=(10, 10))\r\n",
        "fig=sns.boxplot(x=\"ano\", y=\"Vendas\" ,hue='mes',data=BD4,whis=1.5)"
      ],
      "outputs": [
        {
          "output_type": "display_data",
          "data": {
            "text/plain": [
              "<Figure size 720x720 with 1 Axes>"
            ],
            "image/png": "[encoded data removed]"
          },
          "metadata": {
            "needs_background": "light"
          }
        }
      ],
      "metadata": {
        "colab": {
          "base_uri": "https://localhost:8080/",
          "height": 296
        },
        "id": "VRx2otet5It3",
        "outputId": "21754183-44d8-4566-dadb-6ce56ce03b73"
      }
    },
    {
      "cell_type": "markdown",
      "source": [
        "6.\tVisualização das principais Variáveis;Separando em 4 data frames por ano , grafico de numeros de vendas mes a mes por anos excluindo os outliers extremos "
      ],
      "metadata": {
        "id": "l4AhE4dRfpYN"
      }
    },
    {
      "cell_type": "code",
      "execution_count": 29,
      "source": [
        "import seaborn as sns\r\n",
        "plt.figure(figsize=(10, 10))\r\n",
        "\r\n",
        "df5=BD4[BD4['ano'] == 2015] \r\n",
        "df6=BD4[BD4['ano'] == 2016] \r\n",
        "df7=BD4[BD4['ano'] == 2017] \r\n",
        "df8=BD4[BD4['ano'] == 2018] \r\n",
        "fig = sns.relplot(data= df5,x='mes', y=\"Vendas\")\r\n",
        "fig.set_xticklabels( rotation=90)\r\n",
        "fig=sns.relplot(data= df6,x='mes', y=\"Vendas\")\r\n",
        "fig.set_xticklabels( rotation=90)\r\n",
        "fig=sns.relplot(data= df7,x='mes', y=\"Vendas\")\r\n",
        "fig.set_xticklabels( rotation=90)\r\n",
        "fig=sns.relplot(data= df8,x='mes', y=\"Vendas\")\r\n",
        "fig.set_xticklabels( rotation=90)"
      ],
      "outputs": [
        {
          "output_type": "execute_result",
          "data": {
            "text/plain": [
              "<seaborn.axisgrid.FacetGrid at 0x2a1be4eaa30>"
            ]
          },
          "metadata": {},
          "execution_count": 29
        },
        {
          "output_type": "display_data",
          "data": {
            "text/plain": [
              "<Figure size 720x720 with 0 Axes>"
            ]
          },
          "metadata": {}
        },
        {
          "output_type": "display_data",
          "data": {
            "text/plain": [
              "<Figure size 360x360 with 1 Axes>"
            ],
            "image/png": "[encoded data removed]"
          },
          "metadata": {
            "needs_background": "light"
          }
        },
        {
          "output_type": "display_data",
          "data": {
            "text/plain": [
              "<Figure size 360x360 with 1 Axes>"
            ],
            "image/png": "[encoded data removed]"
          },
          "metadata": {
            "needs_background": "light"
          }
        },
        {
          "output_type": "display_data",
          "data": {
            "text/plain": [
              "<Figure size 360x360 with 1 Axes>"
            ],
            "image/png": "[encoded data removed]"
          },
          "metadata": {
            "needs_background": "light"
          }
        },
        {
          "output_type": "display_data",
          "data": {
            "text/plain": [
              "<Figure size 360x360 with 1 Axes>"
            ],
            "image/png": "[encoded data removed]"
          },
          "metadata": {
            "needs_background": "light"
          }
        }
      ],
      "metadata": {
        "colab": {
          "base_uri": "https://localhost:8080/",
          "height": 400
        },
        "id": "OKrjWlMZDt2D",
        "outputId": "a1fb6a22-431f-4f01-972e-15ae25727e52"
      }
    },
    {
      "cell_type": "code",
      "execution_count": 30,
      "source": [
        "df5.hist()\r\n",
        "df6.hist()\r\n",
        "df7.hist()\r\n",
        "df8.hist()"
      ],
      "outputs": [
        {
          "output_type": "execute_result",
          "data": {
            "text/plain": [
              "array([[<AxesSubplot:title={'center':'Vendas'}>,\n",
              "        <AxesSubplot:title={'center':'ano'}>],\n",
              "       [<AxesSubplot:title={'center':'dia'}>, <AxesSubplot:>]],\n",
              "      dtype=object)"
            ]
          },
          "metadata": {},
          "execution_count": 30
        },
        {
          "output_type": "display_data",
          "data": {
            "text/plain": [
              "<Figure size 432x288 with 4 Axes>"
            ],
            "image/png": "[encoded data removed]"
          },
          "metadata": {
            "needs_background": "light"
          }
        },
        {
          "output_type": "display_data",
          "data": {
            "text/plain": [
              "<Figure size 432x288 with 4 Axes>"
            ],
            "image/png": "[encoded data removed]"
          },
          "metadata": {
            "needs_background": "light"
          }
        },
        {
          "output_type": "display_data",
          "data": {
            "text/plain": [
              "<Figure size 432x288 with 4 Axes>"
            ],
            "image/png": "[encoded data removed]"
          },
          "metadata": {
            "needs_background": "light"
          }
        },
        {
          "output_type": "display_data",
          "data": {
            "text/plain": [
              "<Figure size 432x288 with 4 Axes>"
            ],
            "image/png": "[encoded data removed]"
          },
          "metadata": {
            "needs_background": "light"
          }
        }
      ],
      "metadata": {
        "colab": {
          "base_uri": "https://localhost:8080/",
          "height": 331
        },
        "id": "1VTxBdu8EjTv",
        "outputId": "d0f663b9-320a-4afa-cbe4-008e8f6fa5e1"
      }
    },
    {
      "cell_type": "code",
      "execution_count": 31,
      "source": [
        "BD4.head()"
      ],
      "outputs": [
        {
          "output_type": "execute_result",
          "data": {
            "text/plain": [
              "    Data_ped   Data_env   Modo de envio  Nome do cliente           Cidade  \\\n",
              "0 2017-11-08 2017-11-11    Second Class      Claire Gute        Henderson   \n",
              "1 2017-11-08 2017-11-11    Second Class      Claire Gute        Henderson   \n",
              "2 2017-06-12 2017-06-16    Second Class  Darrin Van Huff      Los Angeles   \n",
              "3 2016-10-11 2016-10-18  Standard Class   Sean O'Donnell  Fort Lauderdale   \n",
              "4 2016-10-11 2016-10-18  Standard Class   Sean O'Donnell  Fort Lauderdale   \n",
              "\n",
              "     ID do produto        Categoria Subcategoria  \\\n",
              "0  FUR-BO-10001798        Furniture    Bookcases   \n",
              "1  FUR-CH-10000454        Furniture       Chairs   \n",
              "2  OFF-LA-10000240  Office Supplies       Labels   \n",
              "3  FUR-TA-10000577        Furniture       Tables   \n",
              "4  OFF-ST-10000760  Office Supplies      Storage   \n",
              "\n",
              "                                     Nome do produto    Vendas   ano  \\\n",
              "0                  Bush Somerset Collection Bookcase  261.9600  2017   \n",
              "1  Hon Deluxe Fabric Upholstered Stacking Chairs,...  731.9400  2017   \n",
              "2  Self-Adhesive Address Labels for Typewriters b...   14.6200  2017   \n",
              "3      Bretford CR4500 Series Slim Rectangular Table  957.5775  2016   \n",
              "4                     Eldon Fold 'N Roll Cart System   22.3680  2016   \n",
              "\n",
              "        mes  dia  \n",
              "0  November    8  \n",
              "1  November    8  \n",
              "2      June   12  \n",
              "3   October   11  \n",
              "4   October   11  "
            ],
            "text/html": [
              "<div>\n",
              "<style scoped>\n",
              "    .dataframe tbody tr th:only-of-type {\n",
              "        vertical-align: middle;\n",
              "    }\n",
              "\n",
              "    .dataframe tbody tr th {\n",
              "        vertical-align: top;\n",
              "    }\n",
              "\n",
              "    .dataframe thead th {\n",
              "        text-align: right;\n",
              "    }\n",
              "</style>\n",
              "<table border=\"1\" class=\"dataframe\">\n",
              "  <thead>\n",
              "    <tr style=\"text-align: right;\">\n",
              "      <th></th>\n",
              "      <th>Data_ped</th>\n",
              "      <th>Data_env</th>\n",
              "      <th>Modo de envio</th>\n",
              "      <th>Nome do cliente</th>\n",
              "      <th>Cidade</th>\n",
              "      <th>ID do produto</th>\n",
              "      <th>Categoria</th>\n",
              "      <th>Subcategoria</th>\n",
              "      <th>Nome do produto</th>\n",
              "      <th>Vendas</th>\n",
              "      <th>ano</th>\n",
              "      <th>mes</th>\n",
              "      <th>dia</th>\n",
              "    </tr>\n",
              "  </thead>\n",
              "  <tbody>\n",
              "    <tr>\n",
              "      <th>0</th>\n",
              "      <td>2017-11-08</td>\n",
              "      <td>2017-11-11</td>\n",
              "      <td>Second Class</td>\n",
              "      <td>Claire Gute</td>\n",
              "      <td>Henderson</td>\n",
              "      <td>FUR-BO-10001798</td>\n",
              "      <td>Furniture</td>\n",
              "      <td>Bookcases</td>\n",
              "      <td>Bush Somerset Collection Bookcase</td>\n",
              "      <td>261.9600</td>\n",
              "      <td>2017</td>\n",
              "      <td>November</td>\n",
              "      <td>8</td>\n",
              "    </tr>\n",
              "    <tr>\n",
              "      <th>1</th>\n",
              "      <td>2017-11-08</td>\n",
              "      <td>2017-11-11</td>\n",
              "      <td>Second Class</td>\n",
              "      <td>Claire Gute</td>\n",
              "      <td>Henderson</td>\n",
              "      <td>FUR-CH-10000454</td>\n",
              "      <td>Furniture</td>\n",
              "      <td>Chairs</td>\n",
              "      <td>Hon Deluxe Fabric Upholstered Stacking Chairs,...</td>\n",
              "      <td>731.9400</td>\n",
              "      <td>2017</td>\n",
              "      <td>November</td>\n",
              "      <td>8</td>\n",
              "    </tr>\n",
              "    <tr>\n",
              "      <th>2</th>\n",
              "      <td>2017-06-12</td>\n",
              "      <td>2017-06-16</td>\n",
              "      <td>Second Class</td>\n",
              "      <td>Darrin Van Huff</td>\n",
              "      <td>Los Angeles</td>\n",
              "      <td>OFF-LA-10000240</td>\n",
              "      <td>Office Supplies</td>\n",
              "      <td>Labels</td>\n",
              "      <td>Self-Adhesive Address Labels for Typewriters b...</td>\n",
              "      <td>14.6200</td>\n",
              "      <td>2017</td>\n",
              "      <td>June</td>\n",
              "      <td>12</td>\n",
              "    </tr>\n",
              "    <tr>\n",
              "      <th>3</th>\n",
              "      <td>2016-10-11</td>\n",
              "      <td>2016-10-18</td>\n",
              "      <td>Standard Class</td>\n",
              "      <td>Sean O'Donnell</td>\n",
              "      <td>Fort Lauderdale</td>\n",
              "      <td>FUR-TA-10000577</td>\n",
              "      <td>Furniture</td>\n",
              "      <td>Tables</td>\n",
              "      <td>Bretford CR4500 Series Slim Rectangular Table</td>\n",
              "      <td>957.5775</td>\n",
              "      <td>2016</td>\n",
              "      <td>October</td>\n",
              "      <td>11</td>\n",
              "    </tr>\n",
              "    <tr>\n",
              "      <th>4</th>\n",
              "      <td>2016-10-11</td>\n",
              "      <td>2016-10-18</td>\n",
              "      <td>Standard Class</td>\n",
              "      <td>Sean O'Donnell</td>\n",
              "      <td>Fort Lauderdale</td>\n",
              "      <td>OFF-ST-10000760</td>\n",
              "      <td>Office Supplies</td>\n",
              "      <td>Storage</td>\n",
              "      <td>Eldon Fold 'N Roll Cart System</td>\n",
              "      <td>22.3680</td>\n",
              "      <td>2016</td>\n",
              "      <td>October</td>\n",
              "      <td>11</td>\n",
              "    </tr>\n",
              "  </tbody>\n",
              "</table>\n",
              "</div>"
            ]
          },
          "metadata": {},
          "execution_count": 31
        }
      ],
      "metadata": {
        "id": "Fbdr3N7xfpYN",
        "colab": {
          "base_uri": "https://localhost:8080/",
          "height": 542
        },
        "outputId": "00a8e976-80b2-428f-f24d-061e33125c05"
      }
    },
    {
      "cell_type": "code",
      "execution_count": 32,
      "source": [
        "BD4=BD4.reset_index()\r\n",
        "BD4.info"
      ],
      "outputs": [
        {
          "output_type": "execute_result",
          "data": {
            "text/plain": [
              "<bound method DataFrame.info of       index   Data_ped   Data_env   Modo de envio   Nome do cliente  \\\n",
              "0         0 2017-11-08 2017-11-11    Second Class       Claire Gute   \n",
              "1         1 2017-11-08 2017-11-11    Second Class       Claire Gute   \n",
              "2         2 2017-06-12 2017-06-16    Second Class   Darrin Van Huff   \n",
              "3         3 2016-10-11 2016-10-18  Standard Class    Sean O'Donnell   \n",
              "4         4 2016-10-11 2016-10-18  Standard Class    Sean O'Donnell   \n",
              "...     ...        ...        ...             ...               ...   \n",
              "9672   9795 2017-05-21 2017-05-28  Standard Class     Sally Hughsby   \n",
              "9673   9796 2016-01-12 2016-01-17  Standard Class  Cindy Schnelling   \n",
              "9674   9797 2016-01-12 2016-01-17  Standard Class  Cindy Schnelling   \n",
              "9675   9798 2016-01-12 2016-01-17  Standard Class  Cindy Schnelling   \n",
              "9676   9799 2016-01-12 2016-01-17  Standard Class  Cindy Schnelling   \n",
              "\n",
              "               Cidade    ID do produto        Categoria Subcategoria  \\\n",
              "0           Henderson  FUR-BO-10001798        Furniture    Bookcases   \n",
              "1           Henderson  FUR-CH-10000454        Furniture       Chairs   \n",
              "2         Los Angeles  OFF-LA-10000240  Office Supplies       Labels   \n",
              "3     Fort Lauderdale  FUR-TA-10000577        Furniture       Tables   \n",
              "4     Fort Lauderdale  OFF-ST-10000760  Office Supplies      Storage   \n",
              "...               ...              ...              ...          ...   \n",
              "9672          Chicago  OFF-BI-10003429  Office Supplies      Binders   \n",
              "9673           Toledo  OFF-AR-10001374  Office Supplies          Art   \n",
              "9674           Toledo  TEC-PH-10004977       Technology       Phones   \n",
              "9675           Toledo  TEC-PH-10000912       Technology       Phones   \n",
              "9676           Toledo  TEC-AC-10000487       Technology  Accessories   \n",
              "\n",
              "                                        Nome do produto    Vendas   ano  \\\n",
              "0                     Bush Somerset Collection Bookcase  261.9600  2017   \n",
              "1     Hon Deluxe Fabric Upholstered Stacking Chairs,...  731.9400  2017   \n",
              "2     Self-Adhesive Address Labels for Typewriters b...   14.6200  2017   \n",
              "3         Bretford CR4500 Series Slim Rectangular Table  957.5775  2016   \n",
              "4                        Eldon Fold 'N Roll Cart System   22.3680  2016   \n",
              "...                                                 ...       ...   ...   \n",
              "9672  Cardinal HOLDit! Binder Insert Strips,Extra St...    3.7980  2017   \n",
              "9673           BIC Brite Liner Highlighters, Chisel Tip   10.3680  2016   \n",
              "9674                                        GE 30524EE4  235.1880  2016   \n",
              "9675           Anker 24W Portable Micro USB Car Charger   26.3760  2016   \n",
              "9676                SanDisk Cruzer 4 GB USB Flash Drive   10.3840  2016   \n",
              "\n",
              "           mes  dia  \n",
              "0     November    8  \n",
              "1     November    8  \n",
              "2         June   12  \n",
              "3      October   11  \n",
              "4      October   11  \n",
              "...        ...  ...  \n",
              "9672       May   21  \n",
              "9673   January   12  \n",
              "9674   January   12  \n",
              "9675   January   12  \n",
              "9676   January   12  \n",
              "\n",
              "[9677 rows x 14 columns]>"
            ]
          },
          "metadata": {},
          "execution_count": 32
        }
      ],
      "metadata": {
        "id": "i9Z4EjbjfpYN",
        "colab": {
          "base_uri": "https://localhost:8080/"
        },
        "outputId": "28f71f12-c5a0-4fdf-e1ed-43324e763abc"
      }
    },
    {
      "cell_type": "markdown",
      "source": [
        "Vamos obter algumas informaçoes interresantes da nossa Base de Dados "
      ],
      "metadata": {
        "id": "nm4q9ifz9U1o"
      }
    },
    {
      "cell_type": "code",
      "execution_count": 33,
      "source": [
        "print('Nome do produto que mais se repete',df5['Nome do produto'].mode())\r\n",
        "print('Sub Categoria que mais se repete',df5['Subcategoria'].mode())\r\n",
        "print('Media do numero vendas',df5['Vendas'].mean())\r\n",
        "print('Numero de objeto mais vendido',df5['ID do produto'].max())\r\n",
        "df5.describe()"
      ],
      "outputs": [
        {
          "output_type": "stream",
          "name": "stdout",
          "text": [
            "Nome do produto que mais se repete 0    Staple envelope\n",
            "dtype: object\n",
            "Sub Categoria que mais se repete 0    Binders\n",
            "dtype: object\n",
            "Media do numero vendas 186.74035967825662\n",
            "Numero de objeto mais vendido TEC-PH-10004977\n"
          ]
        },
        {
          "output_type": "execute_result",
          "data": {
            "text/plain": [
              "            Vendas     ano          dia\n",
              "count  1927.000000  1927.0  1927.000000\n",
              "mean    186.740360  2015.0    15.710431\n",
              "std     312.773691     0.0     8.813648\n",
              "min       0.852000  2015.0     1.000000\n",
              "25%      15.964000  2015.0     8.000000\n",
              "50%      49.792000  2015.0    16.000000\n",
              "75%     211.208000  2015.0    23.000000\n",
              "max    2060.744000  2015.0    31.000000"
            ],
            "text/html": [
              "<div>\n",
              "<style scoped>\n",
              "    .dataframe tbody tr th:only-of-type {\n",
              "        vertical-align: middle;\n",
              "    }\n",
              "\n",
              "    .dataframe tbody tr th {\n",
              "        vertical-align: top;\n",
              "    }\n",
              "\n",
              "    .dataframe thead th {\n",
              "        text-align: right;\n",
              "    }\n",
              "</style>\n",
              "<table border=\"1\" class=\"dataframe\">\n",
              "  <thead>\n",
              "    <tr style=\"text-align: right;\">\n",
              "      <th></th>\n",
              "      <th>Vendas</th>\n",
              "      <th>ano</th>\n",
              "      <th>dia</th>\n",
              "    </tr>\n",
              "  </thead>\n",
              "  <tbody>\n",
              "    <tr>\n",
              "      <th>count</th>\n",
              "      <td>1927.000000</td>\n",
              "      <td>1927.0</td>\n",
              "      <td>1927.000000</td>\n",
              "    </tr>\n",
              "    <tr>\n",
              "      <th>mean</th>\n",
              "      <td>186.740360</td>\n",
              "      <td>2015.0</td>\n",
              "      <td>15.710431</td>\n",
              "    </tr>\n",
              "    <tr>\n",
              "      <th>std</th>\n",
              "      <td>312.773691</td>\n",
              "      <td>0.0</td>\n",
              "      <td>8.813648</td>\n",
              "    </tr>\n",
              "    <tr>\n",
              "      <th>min</th>\n",
              "      <td>0.852000</td>\n",
              "      <td>2015.0</td>\n",
              "      <td>1.000000</td>\n",
              "    </tr>\n",
              "    <tr>\n",
              "      <th>25%</th>\n",
              "      <td>15.964000</td>\n",
              "      <td>2015.0</td>\n",
              "      <td>8.000000</td>\n",
              "    </tr>\n",
              "    <tr>\n",
              "      <th>50%</th>\n",
              "      <td>49.792000</td>\n",
              "      <td>2015.0</td>\n",
              "      <td>16.000000</td>\n",
              "    </tr>\n",
              "    <tr>\n",
              "      <th>75%</th>\n",
              "      <td>211.208000</td>\n",
              "      <td>2015.0</td>\n",
              "      <td>23.000000</td>\n",
              "    </tr>\n",
              "    <tr>\n",
              "      <th>max</th>\n",
              "      <td>2060.744000</td>\n",
              "      <td>2015.0</td>\n",
              "      <td>31.000000</td>\n",
              "    </tr>\n",
              "  </tbody>\n",
              "</table>\n",
              "</div>"
            ]
          },
          "metadata": {},
          "execution_count": 33
        }
      ],
      "metadata": {
        "colab": {
          "base_uri": "https://localhost:8080/",
          "height": 396
        },
        "id": "kYR2JLew9br9",
        "outputId": "5a95aa0c-25a0-4f7e-cc7c-77d540e11a39"
      }
    },
    {
      "cell_type": "code",
      "execution_count": 34,
      "source": [
        "print('Nome do produto que mais se repete',df6['Nome do produto'].mode())\r\n",
        "print('Sub Categoria que mais se repete',df6['Subcategoria'].mode())\r\n",
        "print('Media do numero vendas',df6['Vendas'].mean())\r\n",
        "print('Numero de objeto mais vendido',df6['ID do produto'].max())\r\n",
        "df6.describe()"
      ],
      "outputs": [
        {
          "output_type": "stream",
          "name": "stdout",
          "text": [
            "Nome do produto que mais se repete 0    Easy-staple paper\n",
            "1      Staple envelope\n",
            "dtype: object\n",
            "Sub Categoria que mais se repete 0    Binders\n",
            "dtype: object\n",
            "Media do numero vendas 186.27381448275858\n",
            "Numero de objeto mais vendido TEC-PH-10004977\n"
          ]
        },
        {
          "output_type": "execute_result",
          "data": {
            "text/plain": [
              "            Vendas     ano          dia\n",
              "count  2030.000000  2030.0  2030.000000\n",
              "mean    186.273814  2016.0    15.749754\n",
              "std     305.524919     0.0     8.747847\n",
              "min       0.984000  2016.0     1.000000\n",
              "25%      17.125000  2016.0     8.000000\n",
              "50%      56.493000  2016.0    16.000000\n",
              "75%     206.350500  2016.0    24.000000\n",
              "max    2025.360000  2016.0    31.000000"
            ],
            "text/html": [
              "<div>\n",
              "<style scoped>\n",
              "    .dataframe tbody tr th:only-of-type {\n",
              "        vertical-align: middle;\n",
              "    }\n",
              "\n",
              "    .dataframe tbody tr th {\n",
              "        vertical-align: top;\n",
              "    }\n",
              "\n",
              "    .dataframe thead th {\n",
              "        text-align: right;\n",
              "    }\n",
              "</style>\n",
              "<table border=\"1\" class=\"dataframe\">\n",
              "  <thead>\n",
              "    <tr style=\"text-align: right;\">\n",
              "      <th></th>\n",
              "      <th>Vendas</th>\n",
              "      <th>ano</th>\n",
              "      <th>dia</th>\n",
              "    </tr>\n",
              "  </thead>\n",
              "  <tbody>\n",
              "    <tr>\n",
              "      <th>count</th>\n",
              "      <td>2030.000000</td>\n",
              "      <td>2030.0</td>\n",
              "      <td>2030.000000</td>\n",
              "    </tr>\n",
              "    <tr>\n",
              "      <th>mean</th>\n",
              "      <td>186.273814</td>\n",
              "      <td>2016.0</td>\n",
              "      <td>15.749754</td>\n",
              "    </tr>\n",
              "    <tr>\n",
              "      <th>std</th>\n",
              "      <td>305.524919</td>\n",
              "      <td>0.0</td>\n",
              "      <td>8.747847</td>\n",
              "    </tr>\n",
              "    <tr>\n",
              "      <th>min</th>\n",
              "      <td>0.984000</td>\n",
              "      <td>2016.0</td>\n",
              "      <td>1.000000</td>\n",
              "    </tr>\n",
              "    <tr>\n",
              "      <th>25%</th>\n",
              "      <td>17.125000</td>\n",
              "      <td>2016.0</td>\n",
              "      <td>8.000000</td>\n",
              "    </tr>\n",
              "    <tr>\n",
              "      <th>50%</th>\n",
              "      <td>56.493000</td>\n",
              "      <td>2016.0</td>\n",
              "      <td>16.000000</td>\n",
              "    </tr>\n",
              "    <tr>\n",
              "      <th>75%</th>\n",
              "      <td>206.350500</td>\n",
              "      <td>2016.0</td>\n",
              "      <td>24.000000</td>\n",
              "    </tr>\n",
              "    <tr>\n",
              "      <th>max</th>\n",
              "      <td>2025.360000</td>\n",
              "      <td>2016.0</td>\n",
              "      <td>31.000000</td>\n",
              "    </tr>\n",
              "  </tbody>\n",
              "</table>\n",
              "</div>"
            ]
          },
          "metadata": {},
          "execution_count": 34
        }
      ],
      "metadata": {
        "colab": {
          "base_uri": "https://localhost:8080/",
          "height": 396
        },
        "id": "kYR2JLew9br9",
        "outputId": "5a95aa0c-25a0-4f7e-cc7c-77d540e11a39"
      }
    },
    {
      "cell_type": "code",
      "execution_count": 35,
      "source": [
        "print('Nome do produto que mais se repete',df7['Nome do produto'].mode())\r\n",
        "print('Sub Categoria que mais se repete',df7['Subcategoria'].mode())\r\n",
        "print('Media do numero vendas',df7['Vendas'].mean())\r\n",
        "print('Numero de objeto mais vendido',df7['ID do produto'].max())\r\n",
        "df7.describe()"
      ],
      "outputs": [
        {
          "output_type": "stream",
          "name": "stdout",
          "text": [
            "Nome do produto que mais se repete 0    Staple envelope\n",
            "dtype: object\n",
            "Sub Categoria que mais se repete 0    Binders\n",
            "dtype: object\n",
            "Media do numero vendas 182.3480173391932\n",
            "Numero de objeto mais vendido TEC-PH-10004977\n"
          ]
        },
        {
          "output_type": "execute_result",
          "data": {
            "text/plain": [
              "            Vendas     ano          dia\n",
              "count  2503.000000  2503.0  2503.000000\n",
              "mean    182.348017  2017.0    15.210547\n",
              "std     307.134664     0.0     8.724444\n",
              "min       0.836000  2017.0     1.000000\n",
              "25%      17.736000  2017.0     8.000000\n",
              "50%      51.750000  2017.0    15.000000\n",
              "75%     195.038000  2017.0    23.000000\n",
              "max    2104.550000  2017.0    31.000000"
            ],
            "text/html": [
              "<div>\n",
              "<style scoped>\n",
              "    .dataframe tbody tr th:only-of-type {\n",
              "        vertical-align: middle;\n",
              "    }\n",
              "\n",
              "    .dataframe tbody tr th {\n",
              "        vertical-align: top;\n",
              "    }\n",
              "\n",
              "    .dataframe thead th {\n",
              "        text-align: right;\n",
              "    }\n",
              "</style>\n",
              "<table border=\"1\" class=\"dataframe\">\n",
              "  <thead>\n",
              "    <tr style=\"text-align: right;\">\n",
              "      <th></th>\n",
              "      <th>Vendas</th>\n",
              "      <th>ano</th>\n",
              "      <th>dia</th>\n",
              "    </tr>\n",
              "  </thead>\n",
              "  <tbody>\n",
              "    <tr>\n",
              "      <th>count</th>\n",
              "      <td>2503.000000</td>\n",
              "      <td>2503.0</td>\n",
              "      <td>2503.000000</td>\n",
              "    </tr>\n",
              "    <tr>\n",
              "      <th>mean</th>\n",
              "      <td>182.348017</td>\n",
              "      <td>2017.0</td>\n",
              "      <td>15.210547</td>\n",
              "    </tr>\n",
              "    <tr>\n",
              "      <th>std</th>\n",
              "      <td>307.134664</td>\n",
              "      <td>0.0</td>\n",
              "      <td>8.724444</td>\n",
              "    </tr>\n",
              "    <tr>\n",
              "      <th>min</th>\n",
              "      <td>0.836000</td>\n",
              "      <td>2017.0</td>\n",
              "      <td>1.000000</td>\n",
              "    </tr>\n",
              "    <tr>\n",
              "      <th>25%</th>\n",
              "      <td>17.736000</td>\n",
              "      <td>2017.0</td>\n",
              "      <td>8.000000</td>\n",
              "    </tr>\n",
              "    <tr>\n",
              "      <th>50%</th>\n",
              "      <td>51.750000</td>\n",
              "      <td>2017.0</td>\n",
              "      <td>15.000000</td>\n",
              "    </tr>\n",
              "    <tr>\n",
              "      <th>75%</th>\n",
              "      <td>195.038000</td>\n",
              "      <td>2017.0</td>\n",
              "      <td>23.000000</td>\n",
              "    </tr>\n",
              "    <tr>\n",
              "      <th>max</th>\n",
              "      <td>2104.550000</td>\n",
              "      <td>2017.0</td>\n",
              "      <td>31.000000</td>\n",
              "    </tr>\n",
              "  </tbody>\n",
              "</table>\n",
              "</div>"
            ]
          },
          "metadata": {},
          "execution_count": 35
        }
      ],
      "metadata": {
        "colab": {
          "base_uri": "https://localhost:8080/",
          "height": 1000
        },
        "id": "E8nXB90DL85W",
        "outputId": "ac564c37-0a27-4c3d-c56d-badcd010df24"
      }
    },
    {
      "cell_type": "code",
      "execution_count": 36,
      "source": [
        "print('Nome do produto que mais se repete',df8['Nome do produto'].mode())\r\n",
        "print('Sub Categoria que mais se repete',df8['Subcategoria'].mode())\r\n",
        "print('Media do numero vendas',df8['Vendas'].mean())\r\n",
        "print('Numero de objeto mais vendido',df8['ID do produto'].max())\r\n",
        "df8.describe()"
      ],
      "outputs": [
        {
          "output_type": "stream",
          "name": "stdout",
          "text": [
            "Nome do produto que mais se repete 0    Easy-staple paper\n",
            "dtype: object\n",
            "Sub Categoria que mais se repete 0    Binders\n",
            "dtype: object\n",
            "Media do numero vendas 174.76088566987931\n",
            "Numero de objeto mais vendido TEC-PH-10004977\n"
          ]
        },
        {
          "output_type": "execute_result",
          "data": {
            "text/plain": [
              "            Vendas     ano          dia\n",
              "count  3217.000000  3217.0  3217.000000\n",
              "mean    174.760886  2018.0    15.384209\n",
              "std     300.918881     0.0     8.746661\n",
              "min       0.444000  2018.0     1.000000\n",
              "25%      16.768000  2018.0     8.000000\n",
              "50%      51.550000  2018.0    16.000000\n",
              "75%     195.960000  2018.0    23.000000\n",
              "max    2065.320000  2018.0    31.000000"
            ],
            "text/html": [
              "<div>\n",
              "<style scoped>\n",
              "    .dataframe tbody tr th:only-of-type {\n",
              "        vertical-align: middle;\n",
              "    }\n",
              "\n",
              "    .dataframe tbody tr th {\n",
              "        vertical-align: top;\n",
              "    }\n",
              "\n",
              "    .dataframe thead th {\n",
              "        text-align: right;\n",
              "    }\n",
              "</style>\n",
              "<table border=\"1\" class=\"dataframe\">\n",
              "  <thead>\n",
              "    <tr style=\"text-align: right;\">\n",
              "      <th></th>\n",
              "      <th>Vendas</th>\n",
              "      <th>ano</th>\n",
              "      <th>dia</th>\n",
              "    </tr>\n",
              "  </thead>\n",
              "  <tbody>\n",
              "    <tr>\n",
              "      <th>count</th>\n",
              "      <td>3217.000000</td>\n",
              "      <td>3217.0</td>\n",
              "      <td>3217.000000</td>\n",
              "    </tr>\n",
              "    <tr>\n",
              "      <th>mean</th>\n",
              "      <td>174.760886</td>\n",
              "      <td>2018.0</td>\n",
              "      <td>15.384209</td>\n",
              "    </tr>\n",
              "    <tr>\n",
              "      <th>std</th>\n",
              "      <td>300.918881</td>\n",
              "      <td>0.0</td>\n",
              "      <td>8.746661</td>\n",
              "    </tr>\n",
              "    <tr>\n",
              "      <th>min</th>\n",
              "      <td>0.444000</td>\n",
              "      <td>2018.0</td>\n",
              "      <td>1.000000</td>\n",
              "    </tr>\n",
              "    <tr>\n",
              "      <th>25%</th>\n",
              "      <td>16.768000</td>\n",
              "      <td>2018.0</td>\n",
              "      <td>8.000000</td>\n",
              "    </tr>\n",
              "    <tr>\n",
              "      <th>50%</th>\n",
              "      <td>51.550000</td>\n",
              "      <td>2018.0</td>\n",
              "      <td>16.000000</td>\n",
              "    </tr>\n",
              "    <tr>\n",
              "      <th>75%</th>\n",
              "      <td>195.960000</td>\n",
              "      <td>2018.0</td>\n",
              "      <td>23.000000</td>\n",
              "    </tr>\n",
              "    <tr>\n",
              "      <th>max</th>\n",
              "      <td>2065.320000</td>\n",
              "      <td>2018.0</td>\n",
              "      <td>31.000000</td>\n",
              "    </tr>\n",
              "  </tbody>\n",
              "</table>\n",
              "</div>"
            ]
          },
          "metadata": {},
          "execution_count": 36
        }
      ],
      "metadata": {}
    },
    {
      "cell_type": "markdown",
      "source": [
        "# **Análise profunda dos dados** \r\n",
        "# Machine learnig "
      ],
      "metadata": {
        "id": "MnIGND2dPKjA"
      }
    },
    {
      "cell_type": "markdown",
      "source": [
        "Nesta fase final , vamos atacar prontamente nosso problema atraves de regressão linear para descobrirmos quais seram os proximos setores/produtos vendidos , primeiramente vou passar nossa base de dados pela biblioteca lazy Predict para descobrir qual dos 40 modelos instalados de regressão sera, o mais indicado e depois da escolha do mesmo vamos manipular os hiper parametros para obter uma melhor resposta , ja dividimos nosso df em 4 e vamos usar essa divisão como teste e validação de forma deslisante."
      ],
      "metadata": {}
    },
    {
      "cell_type": "code",
      "execution_count": 37,
      "source": [
        "!pip install pyforest \r\n",
        "!pip install lazypredict"
      ],
      "outputs": [
        {
          "output_type": "stream",
          "name": "stdout",
          "text": [
            "Requirement already satisfied: pyforest in c:\\users\\jonas\\anaconda3\\lib\\site-packages (1.1.0)\n",
            "Requirement already satisfied: lazypredict in c:\\users\\jonas\\anaconda3\\lib\\site-packages (0.2.9)\n",
            "Requirement already satisfied: joblib==1.0.0 in c:\\users\\jonas\\anaconda3\\lib\\site-packages (from lazypredict) (1.0.0)\n",
            "Requirement already satisfied: xgboost==1.1.1 in c:\\users\\jonas\\anaconda3\\lib\\site-packages (from lazypredict) (1.1.1)\n",
            "Requirement already satisfied: pytest==5.4.3 in c:\\users\\jonas\\anaconda3\\lib\\site-packages (from lazypredict) (5.4.3)\n",
            "Requirement already satisfied: scipy==1.5.4 in c:\\users\\jonas\\anaconda3\\lib\\site-packages (from lazypredict) (1.5.4)\n",
            "Requirement already satisfied: scikit-learn==0.23.1 in c:\\users\\jonas\\anaconda3\\lib\\site-packages (from lazypredict) (0.23.1)\n",
            "Requirement already satisfied: lightgbm==2.3.1 in c:\\users\\jonas\\anaconda3\\lib\\site-packages (from lazypredict) (2.3.1)\n",
            "Requirement already satisfied: six==1.15.0 in c:\\users\\jonas\\anaconda3\\lib\\site-packages (from lazypredict) (1.15.0)\n",
            "Requirement already satisfied: numpy==1.19.1 in c:\\users\\jonas\\anaconda3\\lib\\site-packages (from lazypredict) (1.19.1)\n",
            "Requirement already satisfied: click==7.1.2 in c:\\users\\jonas\\anaconda3\\lib\\site-packages (from lazypredict) (7.1.2)\n",
            "Requirement already satisfied: PyYAML==5.3.1 in c:\\users\\jonas\\anaconda3\\lib\\site-packages (from lazypredict) (5.3.1)\n",
            "Requirement already satisfied: tqdm==4.56.0 in c:\\users\\jonas\\anaconda3\\lib\\site-packages (from lazypredict) (4.56.0)\n",
            "Requirement already satisfied: pandas==1.0.5 in c:\\users\\jonas\\anaconda3\\lib\\site-packages (from lazypredict) (1.0.5)\n",
            "Requirement already satisfied: python-dateutil>=2.6.1 in c:\\users\\jonas\\anaconda3\\lib\\site-packages (from pandas==1.0.5->lazypredict) (2.8.1)\n",
            "Requirement already satisfied: pytz>=2017.2 in c:\\users\\jonas\\anaconda3\\lib\\site-packages (from pandas==1.0.5->lazypredict) (2021.1)\n",
            "Requirement already satisfied: attrs>=17.4.0 in c:\\users\\jonas\\anaconda3\\lib\\site-packages (from pytest==5.4.3->lazypredict) (20.3.0)\n",
            "Requirement already satisfied: more-itertools>=4.0.0 in c:\\users\\jonas\\anaconda3\\lib\\site-packages (from pytest==5.4.3->lazypredict) (8.7.0)\n",
            "Requirement already satisfied: colorama in c:\\users\\jonas\\anaconda3\\lib\\site-packages (from pytest==5.4.3->lazypredict) (0.4.4)\n",
            "Requirement already satisfied: wcwidth in c:\\users\\jonas\\anaconda3\\lib\\site-packages (from pytest==5.4.3->lazypredict) (0.2.5)\n",
            "Requirement already satisfied: atomicwrites>=1.0 in c:\\users\\jonas\\anaconda3\\lib\\site-packages (from pytest==5.4.3->lazypredict) (1.4.0)\n",
            "Requirement already satisfied: pluggy<1.0,>=0.12 in c:\\users\\jonas\\anaconda3\\lib\\site-packages (from pytest==5.4.3->lazypredict) (0.13.1)\n",
            "Requirement already satisfied: packaging in c:\\users\\jonas\\anaconda3\\lib\\site-packages (from pytest==5.4.3->lazypredict) (20.9)\n",
            "Requirement already satisfied: py>=1.5.0 in c:\\users\\jonas\\anaconda3\\lib\\site-packages (from pytest==5.4.3->lazypredict) (1.10.0)\n",
            "Requirement already satisfied: threadpoolctl>=2.0.0 in c:\\users\\jonas\\anaconda3\\lib\\site-packages (from scikit-learn==0.23.1->lazypredict) (2.1.0)\n",
            "Requirement already satisfied: pyparsing>=2.0.2 in c:\\users\\jonas\\anaconda3\\lib\\site-packages (from packaging->pytest==5.4.3->lazypredict) (2.4.7)\n"
          ]
        }
      ],
      "metadata": {}
    },
    {
      "cell_type": "code",
      "execution_count": 38,
      "source": [
        "# Importing important libraries\r\n",
        "\r\n",
        "import pyforest\r\n",
        "from lazypredict.Supervised import LazyRegressor\r\n",
        "from pandas.plotting import scatter_matrix\r\n",
        "\r\n",
        "# Scikit-learn packages\r\n",
        "from sklearn.linear_model import LinearRegression\r\n",
        "from sklearn.tree import DecisionTreeRegressor\r\n",
        "from sklearn.ensemble import ExtraTreesRegressor\r\n",
        "from sklearn import metrics\r\n",
        "from sklearn.metrics import mean_squared_error\r\n",
        "\r\n",
        "# Setting up max columns displayes to 100\r\n",
        "pd.options.display.max_columns = None\r\n",
        "pd.set_option('display.width', None)\r\n",
        "\r\n",
        "# Hide warnings\r\n",
        "import warnings\r\n",
        "warnings.filterwarnings(\"ignore\")\r\n",
        "\r\n",
        "# Set theme\r\n",
        "sns.set_style('darkgrid')"
      ],
      "outputs": [
        {
          "output_type": "stream",
          "name": "stderr",
          "text": [
            "C:\\Users\\jonas\\anaconda3\\lib\\site-packages\\sklearn\\utils\\deprecation.py:143: FutureWarning: The sklearn.utils.testing module is  deprecated in version 0.22 and will be removed in version 0.24. The corresponding classes / functions should instead be imported from sklearn.utils. Anything that cannot be imported from sklearn.utils is now part of the private API.\n",
            "  warnings.warn(message, FutureWarning)\n"
          ]
        }
      ],
      "metadata": {
        "ExecuteTime": {
          "end_time": "2021-06-12T14:53:29.854739Z",
          "start_time": "2021-06-12T14:53:21.962056Z"
        }
      }
    },
    {
      "cell_type": "code",
      "execution_count": 39,
      "source": [
        "# Importing dataset\r\n",
        "df = df5\r\n",
        "df.head\r\n",
        "BD4.isnull().sum()"
      ],
      "outputs": [
        {
          "output_type": "execute_result",
          "data": {
            "text/plain": [
              "index              0\n",
              "Data_ped           0\n",
              "Data_env           0\n",
              "Modo de envio      0\n",
              "Nome do cliente    0\n",
              "Cidade             0\n",
              "ID do produto      0\n",
              "Categoria          0\n",
              "Subcategoria       0\n",
              "Nome do produto    0\n",
              "Vendas             0\n",
              "ano                0\n",
              "mes                0\n",
              "dia                0\n",
              "dtype: int64"
            ]
          },
          "metadata": {},
          "execution_count": 39
        }
      ],
      "metadata": {
        "ExecuteTime": {
          "end_time": "2021-06-12T14:53:29.916145Z",
          "start_time": "2021-06-12T14:53:29.857411Z"
        }
      }
    },
    {
      "cell_type": "code",
      "execution_count": 40,
      "source": [
        "df.columns"
      ],
      "outputs": [
        {
          "output_type": "execute_result",
          "data": {
            "text/plain": [
              "Index(['Data_ped', 'Data_env', 'Modo de envio', 'Nome do cliente', 'Cidade',\n",
              "       'ID do produto', 'Categoria', 'Subcategoria', 'Nome do produto',\n",
              "       'Vendas', 'ano', 'mes', 'dia'],\n",
              "      dtype='object')"
            ]
          },
          "metadata": {},
          "execution_count": 40
        }
      ],
      "metadata": {}
    },
    {
      "cell_type": "code",
      "execution_count": 41,
      "source": [
        "df = df.drop(columns=['Data_ped', 'Data_env','ano','Modo de envio','ID do produto','Nome do cliente','Cidade','Categoria', 'Subcategoria', 'Nome do produto'])"
      ],
      "outputs": [],
      "metadata": {}
    },
    {
      "cell_type": "code",
      "execution_count": 42,
      "source": [
        "df.info\r\n",
        "df.head"
      ],
      "outputs": [
        {
          "output_type": "execute_result",
          "data": {
            "text/plain": [
              "<bound method NDFrame.head of       Vendas       mes  dia\n",
              "5      48.86      June    9\n",
              "6       7.28      June    9\n",
              "7     907.15      June    9\n",
              "8      18.50      June    9\n",
              "9     114.90      June    9\n",
              "...      ...       ...  ...\n",
              "9786  149.90  November    5\n",
              "9791   56.06       May   21\n",
              "9792  107.77       May   21\n",
              "9793    4.83       May   21\n",
              "9794   18.24       May   21\n",
              "\n",
              "[1927 rows x 3 columns]>"
            ]
          },
          "metadata": {},
          "execution_count": 42
        }
      ],
      "metadata": {}
    },
    {
      "cell_type": "code",
      "execution_count": 43,
      "source": [
        "# Creating train test split\r\n",
        "import calendar\r\n",
        "dic = {'01': 'January', '02': 'February', '03': 'March', '04': 'April', '05': 'May','06': 'June', '07': 'July', '08': 'August', '09': 'September', '10': 'October', '11': 'November', '12': 'December'}\r\n",
        "dic = dict((v,k) for k,v in dic.items())\r\n",
        "df['Mes'] = (df['mes'].apply(lambda X: dic[X])).astype(int)\r\n",
        "y = df['Vendas']\r\n",
        "x = df.drop(columns=['mes', 'Vendas'])\r\n",
        "x"
      ],
      "outputs": [
        {
          "output_type": "execute_result",
          "data": {
            "text/plain": [
              "      dia  Mes\n",
              "5       9    6\n",
              "6       9    6\n",
              "7       9    6\n",
              "8       9    6\n",
              "9       9    6\n",
              "...   ...  ...\n",
              "9786    5   11\n",
              "9791   21    5\n",
              "9792   21    5\n",
              "9793   21    5\n",
              "9794   21    5\n",
              "\n",
              "[1927 rows x 2 columns]"
            ],
            "text/html": [
              "<div>\n",
              "<style scoped>\n",
              "    .dataframe tbody tr th:only-of-type {\n",
              "        vertical-align: middle;\n",
              "    }\n",
              "\n",
              "    .dataframe tbody tr th {\n",
              "        vertical-align: top;\n",
              "    }\n",
              "\n",
              "    .dataframe thead th {\n",
              "        text-align: right;\n",
              "    }\n",
              "</style>\n",
              "<table border=\"1\" class=\"dataframe\">\n",
              "  <thead>\n",
              "    <tr style=\"text-align: right;\">\n",
              "      <th></th>\n",
              "      <th>dia</th>\n",
              "      <th>Mes</th>\n",
              "    </tr>\n",
              "  </thead>\n",
              "  <tbody>\n",
              "    <tr>\n",
              "      <th>5</th>\n",
              "      <td>9</td>\n",
              "      <td>6</td>\n",
              "    </tr>\n",
              "    <tr>\n",
              "      <th>6</th>\n",
              "      <td>9</td>\n",
              "      <td>6</td>\n",
              "    </tr>\n",
              "    <tr>\n",
              "      <th>7</th>\n",
              "      <td>9</td>\n",
              "      <td>6</td>\n",
              "    </tr>\n",
              "    <tr>\n",
              "      <th>8</th>\n",
              "      <td>9</td>\n",
              "      <td>6</td>\n",
              "    </tr>\n",
              "    <tr>\n",
              "      <th>9</th>\n",
              "      <td>9</td>\n",
              "      <td>6</td>\n",
              "    </tr>\n",
              "    <tr>\n",
              "      <th>...</th>\n",
              "      <td>...</td>\n",
              "      <td>...</td>\n",
              "    </tr>\n",
              "    <tr>\n",
              "      <th>9786</th>\n",
              "      <td>5</td>\n",
              "      <td>11</td>\n",
              "    </tr>\n",
              "    <tr>\n",
              "      <th>9791</th>\n",
              "      <td>21</td>\n",
              "      <td>5</td>\n",
              "    </tr>\n",
              "    <tr>\n",
              "      <th>9792</th>\n",
              "      <td>21</td>\n",
              "      <td>5</td>\n",
              "    </tr>\n",
              "    <tr>\n",
              "      <th>9793</th>\n",
              "      <td>21</td>\n",
              "      <td>5</td>\n",
              "    </tr>\n",
              "    <tr>\n",
              "      <th>9794</th>\n",
              "      <td>21</td>\n",
              "      <td>5</td>\n",
              "    </tr>\n",
              "  </tbody>\n",
              "</table>\n",
              "<p>1927 rows × 2 columns</p>\n",
              "</div>"
            ]
          },
          "metadata": {},
          "execution_count": 43
        }
      ],
      "metadata": {
        "ExecuteTime": {
          "end_time": "2021-06-12T14:53:30.266824Z",
          "start_time": "2021-06-12T14:53:30.261222Z"
        }
      }
    },
    {
      "cell_type": "code",
      "execution_count": 44,
      "source": [
        "df.head"
      ],
      "outputs": [
        {
          "output_type": "execute_result",
          "data": {
            "text/plain": [
              "<bound method NDFrame.head of       Vendas       mes  dia  Mes\n",
              "5      48.86      June    9    6\n",
              "6       7.28      June    9    6\n",
              "7     907.15      June    9    6\n",
              "8      18.50      June    9    6\n",
              "9     114.90      June    9    6\n",
              "...      ...       ...  ...  ...\n",
              "9786  149.90  November    5   11\n",
              "9791   56.06       May   21    5\n",
              "9792  107.77       May   21    5\n",
              "9793    4.83       May   21    5\n",
              "9794   18.24       May   21    5\n",
              "\n",
              "[1927 rows x 4 columns]>"
            ]
          },
          "metadata": {},
          "execution_count": 44
        }
      ],
      "metadata": {}
    },
    {
      "cell_type": "code",
      "execution_count": 45,
      "source": [
        "# Call train_test_split on the data and capture the results\r\n",
        "X_train, X_test, y_train, y_test = train_test_split(x, y, random_state=3,test_size=0.25)\r\n",
        "\r\n",
        "# Checking if the training set was correcly splitted\r\n",
        "print(\"Training set - Features: \", X_train.shape, \"Target: \", y_train.shape)\r\n",
        "print(\"Test set - Features: \", X_test.shape, \"Target: \",y_test.shape)"
      ],
      "outputs": [
        {
          "output_type": "stream",
          "name": "stdout",
          "text": [
            "Training set - Features:  (1445, 2) Target:  (1445,)\n",
            "Test set - Features:  (482, 2) Target:  (482,)\n"
          ]
        }
      ],
      "metadata": {
        "ExecuteTime": {
          "end_time": "2021-06-12T14:53:30.283533Z",
          "start_time": "2021-06-12T14:53:30.269787Z"
        }
      }
    },
    {
      "cell_type": "code",
      "execution_count": 46,
      "source": [
        "reg = LazyRegressor(verbose=0, ignore_warnings=True, custom_metric=None)\r\n",
        "models, predictions = reg.fit(X_train, X_test, y_train, y_test)\r\n",
        "\r\n",
        "print(models)"
      ],
      "outputs": [
        {
          "output_type": "stream",
          "name": "stderr",
          "text": [
            "100%|██████████| 42/42 [00:06<00:00,  6.68it/s]"
          ]
        },
        {
          "output_type": "stream",
          "name": "stdout",
          "text": [
            "                               Adjusted R-Squared  R-Squared   RMSE  \\\n",
            "Model                                                                 \n",
            "BayesianRidge                               -0.00      -0.00 320.99   \n",
            "LassoLars                                   -0.00      -0.00 320.99   \n",
            "ElasticNetCV                                -0.00      -0.00 320.99   \n",
            "LassoCV                                     -0.00      -0.00 320.99   \n",
            "LassoLarsIC                                 -0.00      -0.00 320.99   \n",
            "LassoLarsCV                                 -0.00      -0.00 320.99   \n",
            "DummyRegressor                              -0.00      -0.00 320.99   \n",
            "LarsCV                                      -0.00      -0.00 320.99   \n",
            "GammaRegressor                              -0.00      -0.00 321.01   \n",
            "GeneralizedLinearRegressor                  -0.00      -0.00 321.01   \n",
            "TweedieRegressor                            -0.00      -0.00 321.01   \n",
            "ElasticNet                                  -0.00      -0.00 321.03   \n",
            "Lasso                                       -0.01      -0.00 321.10   \n",
            "PoissonRegressor                            -0.01      -0.00 321.13   \n",
            "RidgeCV                                     -0.01      -0.00 321.13   \n",
            "Ridge                                       -0.01      -0.00 321.13   \n",
            "Lars                                        -0.01      -0.00 321.13   \n",
            "LinearRegression                            -0.01      -0.00 321.13   \n",
            "TransformedTargetRegressor                  -0.01      -0.00 321.13   \n",
            "OrthogonalMatchingPursuit                   -0.01      -0.00 321.15   \n",
            "OrthogonalMatchingPursuitCV                 -0.01      -0.00 321.15   \n",
            "SGDRegressor                                -0.01      -0.00 321.17   \n",
            "MLPRegressor                                -0.01      -0.00 321.25   \n",
            "GradientBoostingRegressor                   -0.04      -0.03 325.97   \n",
            "NuSVR                                       -0.05      -0.04 328.04   \n",
            "LGBMRegressor                               -0.07      -0.07 331.66   \n",
            "HistGradientBoostingRegressor               -0.07      -0.07 331.68   \n",
            "GaussianProcessRegressor                    -0.08      -0.07 332.39   \n",
            "BaggingRegressor                            -0.10      -0.10 336.32   \n",
            "HuberRegressor                              -0.11      -0.10 337.21   \n",
            "RandomForestRegressor                       -0.12      -0.11 338.42   \n",
            "XGBRegressor                                -0.12      -0.11 338.71   \n",
            "ExtraTreeRegressor                          -0.12      -0.12 339.71   \n",
            "DecisionTreeRegressor                       -0.13      -0.12 339.85   \n",
            "ExtraTreesRegressor                         -0.13      -0.12 339.92   \n",
            "PassiveAggressiveRegressor                  -0.15      -0.14 342.98   \n",
            "KNeighborsRegressor                         -0.16      -0.16 345.62   \n",
            "AdaBoostRegressor                           -0.17      -0.16 345.73   \n",
            "SVR                                         -0.17      -0.17 347.15   \n",
            "LinearSVR                                   -0.18      -0.18 348.39   \n",
            "RANSACRegressor                             -0.25      -0.24 357.69   \n",
            "KernelRidge                                 -0.34      -0.33 370.41   \n",
            "\n",
            "                               Time Taken  \n",
            "Model                                      \n",
            "BayesianRidge                        0.02  \n",
            "LassoLars                            0.01  \n",
            "ElasticNetCV                         0.08  \n",
            "LassoCV                              0.07  \n",
            "LassoLarsIC                          0.01  \n",
            "LassoLarsCV                          0.02  \n",
            "DummyRegressor                       0.01  \n",
            "LarsCV                               0.02  \n",
            "GammaRegressor                       0.01  \n",
            "GeneralizedLinearRegressor           0.01  \n",
            "TweedieRegressor                     0.01  \n",
            "ElasticNet                           0.01  \n",
            "Lasso                                0.01  \n",
            "PoissonRegressor                     0.01  \n",
            "RidgeCV                              0.01  \n",
            "Ridge                                0.01  \n",
            "Lars                                 0.01  \n",
            "LinearRegression                     0.01  \n",
            "TransformedTargetRegressor           0.01  \n",
            "OrthogonalMatchingPursuit            0.01  \n",
            "OrthogonalMatchingPursuitCV          0.02  \n",
            "SGDRegressor                         0.01  \n",
            "MLPRegressor                         2.45  \n",
            "GradientBoostingRegressor            0.08  \n",
            "NuSVR                                0.09  \n",
            "LGBMRegressor                        0.15  \n",
            "HistGradientBoostingRegressor        1.03  \n",
            "GaussianProcessRegressor             0.24  \n",
            "BaggingRegressor                     0.04  \n",
            "HuberRegressor                       0.03  \n",
            "RandomForestRegressor                0.23  \n",
            "XGBRegressor                         0.97  \n",
            "ExtraTreeRegressor                   0.01  \n",
            "DecisionTreeRegressor                0.01  \n",
            "ExtraTreesRegressor                  0.17  \n",
            "PassiveAggressiveRegressor           0.01  \n",
            "KNeighborsRegressor                  0.02  \n",
            "AdaBoostRegressor                    0.04  \n",
            "SVR                                  0.11  \n",
            "LinearSVR                            0.01  \n",
            "RANSACRegressor                      0.03  \n",
            "KernelRidge                          0.12  \n"
          ]
        },
        {
          "output_type": "stream",
          "name": "stderr",
          "text": [
            "\n"
          ]
        }
      ],
      "metadata": {
        "ExecuteTime": {
          "end_time": "2021-06-12T14:55:49.188623Z",
          "start_time": "2021-06-12T14:53:30.286645Z"
        },
        "scrolled": false
      }
    },
    {
      "cell_type": "code",
      "execution_count": 47,
      "source": [
        "# Evaluation Function\r\n",
        "def rmse(model, y_test, y_pred, X_train, y_train):\r\n",
        "    r_squared = model.score(X_test, y_test)\r\n",
        "    mse = mean_squared_error(y_test, y_pred)\r\n",
        "    rmse = np.sqrt(mse)\r\n",
        "    print('R-squared: ' + str(r_squared))\r\n",
        "    print('Mean Squared Error: '+ str(rmse))"
      ],
      "outputs": [],
      "metadata": {
        "ExecuteTime": {
          "end_time": "2021-06-12T14:55:49.200244Z",
          "start_time": "2021-06-12T14:55:49.194046Z"
        }
      }
    },
    {
      "cell_type": "code",
      "execution_count": 48,
      "source": [
        "# Create model line scatter plot\r\n",
        "def scatter_plot(y_test, y_pred, model_name):\r\n",
        "    plt.figure(figsize=(10,6))\r\n",
        "    sns.residplot(y_test, y_pred, lowess=True, color='#4682b4',\r\n",
        "              line_kws={'lw': 2, 'color': 'r'})\r\n",
        "    plt.title(str('Price vs Residuals for \\n' + model_name), fontsize=16)\r\n",
        "    plt.xlabel('Price',fontsize=16)\r\n",
        "    plt.xticks(fontsize=13)\r\n",
        "    plt.yticks(fontsize=13)\r\n",
        "    plt.show()"
      ],
      "outputs": [],
      "metadata": {
        "ExecuteTime": {
          "end_time": "2021-04-22T16:36:06.985218Z",
          "start_time": "2021-04-22T16:36:06.979412Z"
        }
      }
    },
    {
      "cell_type": "code",
      "execution_count": 49,
      "source": [
        "# explicitly require this experimental feature\r\n",
        "from sklearn.experimental import enable_hist_gradient_boosting  # noqa\r\n",
        "# now you can import normally from ensemble\r\n",
        "from sklearn.ensemble import HistGradientBoostingRegressor"
      ],
      "outputs": [],
      "metadata": {
        "ExecuteTime": {
          "end_time": "2021-04-22T16:35:42.101581Z",
          "start_time": "2021-04-22T16:35:42.093741Z"
        }
      }
    },
    {
      "cell_type": "code",
      "execution_count": 50,
      "source": [
        "# Histogram-based Gradient Boosting Regression Tree\r\n",
        "hist = HistGradientBoostingRegressor()\r\n",
        "hist.fit(X_train, y_train)\r\n",
        "y_pred = hist.predict(X_test)"
      ],
      "outputs": [],
      "metadata": {
        "ExecuteTime": {
          "end_time": "2021-04-22T16:36:56.245197Z",
          "start_time": "2021-04-22T16:36:52.696975Z"
        }
      }
    },
    {
      "cell_type": "code",
      "execution_count": 51,
      "source": [
        "rmse(hist, y_test, y_pred, X_train, y_train)"
      ],
      "outputs": [
        {
          "output_type": "stream",
          "name": "stdout",
          "text": [
            "R-squared: -0.06789134965630717\n",
            "Mean Squared Error: 331.67793658774764\n"
          ]
        }
      ],
      "metadata": {
        "ExecuteTime": {
          "end_time": "2021-04-22T16:35:44.595316Z",
          "start_time": "2021-04-22T16:35:44.547842Z"
        }
      }
    },
    {
      "cell_type": "code",
      "execution_count": 52,
      "source": [
        "scatter_plot(y_test, y_pred, 'Histogram-based Gradient Boosting Regression Tree')"
      ],
      "outputs": [
        {
          "output_type": "display_data",
          "data": {
            "text/plain": [
              "<Figure size 720x432 with 1 Axes>"
            ],
            "image/png": "[encoded data removed]"
          },
          "metadata": {}
        }
      ],
      "metadata": {
        "ExecuteTime": {
          "end_time": "2021-04-22T16:38:46.714936Z",
          "start_time": "2021-04-22T16:38:45.517444Z"
        }
      }
    },
    {
      "cell_type": "code",
      "execution_count": 53,
      "source": [
        "# Importing dataset\r\n",
        "df = df6\r\n",
        "df.head\r\n",
        "BD4.isnull().sum()"
      ],
      "outputs": [
        {
          "output_type": "execute_result",
          "data": {
            "text/plain": [
              "index              0\n",
              "Data_ped           0\n",
              "Data_env           0\n",
              "Modo de envio      0\n",
              "Nome do cliente    0\n",
              "Cidade             0\n",
              "ID do produto      0\n",
              "Categoria          0\n",
              "Subcategoria       0\n",
              "Nome do produto    0\n",
              "Vendas             0\n",
              "ano                0\n",
              "mes                0\n",
              "dia                0\n",
              "dtype: int64"
            ]
          },
          "metadata": {},
          "execution_count": 53
        }
      ],
      "metadata": {
        "ExecuteTime": {
          "end_time": "2021-06-12T14:53:29.916145Z",
          "start_time": "2021-06-12T14:53:29.857411Z"
        }
      }
    },
    {
      "cell_type": "code",
      "execution_count": 54,
      "source": [
        "df.columns"
      ],
      "outputs": [
        {
          "output_type": "execute_result",
          "data": {
            "text/plain": [
              "Index(['Data_ped', 'Data_env', 'Modo de envio', 'Nome do cliente', 'Cidade',\n",
              "       'ID do produto', 'Categoria', 'Subcategoria', 'Nome do produto',\n",
              "       'Vendas', 'ano', 'mes', 'dia'],\n",
              "      dtype='object')"
            ]
          },
          "metadata": {},
          "execution_count": 54
        }
      ],
      "metadata": {}
    },
    {
      "cell_type": "code",
      "execution_count": 55,
      "source": [
        "df = df.drop(columns=['Data_ped', 'Data_env','ano','Modo de envio','ID do produto','Nome do cliente','Cidade','Categoria', 'Subcategoria', 'Nome do produto'])"
      ],
      "outputs": [],
      "metadata": {}
    },
    {
      "cell_type": "code",
      "execution_count": 56,
      "source": [
        "df.info\r\n",
        "df.head"
      ],
      "outputs": [
        {
          "output_type": "execute_result",
          "data": {
            "text/plain": [
              "<bound method NDFrame.head of       Vendas        mes  dia\n",
              "3     957.58    October   11\n",
              "4      22.37    October   11\n",
              "14     68.81   November   22\n",
              "15      2.54   November   22\n",
              "24   1044.63  September   25\n",
              "...      ...        ...  ...\n",
              "9785   48.81        May    9\n",
              "9796   10.37    January   12\n",
              "9797  235.19    January   12\n",
              "9798   26.38    January   12\n",
              "9799   10.38    January   12\n",
              "\n",
              "[2030 rows x 3 columns]>"
            ]
          },
          "metadata": {},
          "execution_count": 56
        }
      ],
      "metadata": {}
    },
    {
      "cell_type": "code",
      "execution_count": 57,
      "source": [
        "# Creating train test split\r\n",
        "import calendar\r\n",
        "dic = {'01': 'January', '02': 'February', '03': 'March', '04': 'April', '05': 'May','06': 'June', '07': 'July', '08': 'August', '09': 'September', '10': 'October', '11': 'November', '12': 'December'}\r\n",
        "dic = dict((v,k) for k,v in dic.items())\r\n",
        "df['Mes'] = (df['mes'].apply(lambda X: dic[X])).astype(int)\r\n",
        "y = df['Vendas']\r\n",
        "x = df.drop(columns=['mes', 'Vendas'])\r\n",
        "x"
      ],
      "outputs": [
        {
          "output_type": "execute_result",
          "data": {
            "text/plain": [
              "      dia  Mes\n",
              "3      11   10\n",
              "4      11   10\n",
              "14     22   11\n",
              "15     22   11\n",
              "24     25    9\n",
              "...   ...  ...\n",
              "9785    9    5\n",
              "9796   12    1\n",
              "9797   12    1\n",
              "9798   12    1\n",
              "9799   12    1\n",
              "\n",
              "[2030 rows x 2 columns]"
            ],
            "text/html": [
              "<div>\n",
              "<style scoped>\n",
              "    .dataframe tbody tr th:only-of-type {\n",
              "        vertical-align: middle;\n",
              "    }\n",
              "\n",
              "    .dataframe tbody tr th {\n",
              "        vertical-align: top;\n",
              "    }\n",
              "\n",
              "    .dataframe thead th {\n",
              "        text-align: right;\n",
              "    }\n",
              "</style>\n",
              "<table border=\"1\" class=\"dataframe\">\n",
              "  <thead>\n",
              "    <tr style=\"text-align: right;\">\n",
              "      <th></th>\n",
              "      <th>dia</th>\n",
              "      <th>Mes</th>\n",
              "    </tr>\n",
              "  </thead>\n",
              "  <tbody>\n",
              "    <tr>\n",
              "      <th>3</th>\n",
              "      <td>11</td>\n",
              "      <td>10</td>\n",
              "    </tr>\n",
              "    <tr>\n",
              "      <th>4</th>\n",
              "      <td>11</td>\n",
              "      <td>10</td>\n",
              "    </tr>\n",
              "    <tr>\n",
              "      <th>14</th>\n",
              "      <td>22</td>\n",
              "      <td>11</td>\n",
              "    </tr>\n",
              "    <tr>\n",
              "      <th>15</th>\n",
              "      <td>22</td>\n",
              "      <td>11</td>\n",
              "    </tr>\n",
              "    <tr>\n",
              "      <th>24</th>\n",
              "      <td>25</td>\n",
              "      <td>9</td>\n",
              "    </tr>\n",
              "    <tr>\n",
              "      <th>...</th>\n",
              "      <td>...</td>\n",
              "      <td>...</td>\n",
              "    </tr>\n",
              "    <tr>\n",
              "      <th>9785</th>\n",
              "      <td>9</td>\n",
              "      <td>5</td>\n",
              "    </tr>\n",
              "    <tr>\n",
              "      <th>9796</th>\n",
              "      <td>12</td>\n",
              "      <td>1</td>\n",
              "    </tr>\n",
              "    <tr>\n",
              "      <th>9797</th>\n",
              "      <td>12</td>\n",
              "      <td>1</td>\n",
              "    </tr>\n",
              "    <tr>\n",
              "      <th>9798</th>\n",
              "      <td>12</td>\n",
              "      <td>1</td>\n",
              "    </tr>\n",
              "    <tr>\n",
              "      <th>9799</th>\n",
              "      <td>12</td>\n",
              "      <td>1</td>\n",
              "    </tr>\n",
              "  </tbody>\n",
              "</table>\n",
              "<p>2030 rows × 2 columns</p>\n",
              "</div>"
            ]
          },
          "metadata": {},
          "execution_count": 57
        }
      ],
      "metadata": {
        "ExecuteTime": {
          "end_time": "2021-06-12T14:53:30.266824Z",
          "start_time": "2021-06-12T14:53:30.261222Z"
        }
      }
    },
    {
      "cell_type": "code",
      "execution_count": 58,
      "source": [
        "df.head"
      ],
      "outputs": [
        {
          "output_type": "execute_result",
          "data": {
            "text/plain": [
              "<bound method NDFrame.head of       Vendas        mes  dia  Mes\n",
              "3     957.58    October   11   10\n",
              "4      22.37    October   11   10\n",
              "14     68.81   November   22   11\n",
              "15      2.54   November   22   11\n",
              "24   1044.63  September   25    9\n",
              "...      ...        ...  ...  ...\n",
              "9785   48.81        May    9    5\n",
              "9796   10.37    January   12    1\n",
              "9797  235.19    January   12    1\n",
              "9798   26.38    January   12    1\n",
              "9799   10.38    January   12    1\n",
              "\n",
              "[2030 rows x 4 columns]>"
            ]
          },
          "metadata": {},
          "execution_count": 58
        }
      ],
      "metadata": {}
    },
    {
      "cell_type": "code",
      "execution_count": 59,
      "source": [
        "# Call train_test_split on the data and capture the results\r\n",
        "X_train, X_test, y_train, y_test = train_test_split(x, y, random_state=3,test_size=0.25)\r\n",
        "\r\n",
        "# Checking if the training set was correcly splitted\r\n",
        "print(\"Training set - Features: \", X_train.shape, \"Target: \", y_train.shape)\r\n",
        "print(\"Test set - Features: \", X_test.shape, \"Target: \",y_test.shape)"
      ],
      "outputs": [
        {
          "output_type": "stream",
          "name": "stdout",
          "text": [
            "Training set - Features:  (1522, 2) Target:  (1522,)\n",
            "Test set - Features:  (508, 2) Target:  (508,)\n"
          ]
        }
      ],
      "metadata": {
        "ExecuteTime": {
          "end_time": "2021-06-12T14:53:30.283533Z",
          "start_time": "2021-06-12T14:53:30.269787Z"
        }
      }
    },
    {
      "cell_type": "code",
      "execution_count": 60,
      "source": [
        "reg = LazyRegressor(verbose=0, ignore_warnings=True, custom_metric=None)\r\n",
        "models, predictions = reg.fit(X_train, X_test, y_train, y_test)\r\n",
        "\r\n",
        "print(models)"
      ],
      "outputs": [
        {
          "output_type": "stream",
          "name": "stderr",
          "text": [
            "100%|██████████| 42/42 [00:05<00:00,  7.40it/s]"
          ]
        },
        {
          "output_type": "stream",
          "name": "stdout",
          "text": [
            "                               Adjusted R-Squared  R-Squared   RMSE  \\\n",
            "Model                                                                 \n",
            "SGDRegressor                                -0.01      -0.00 326.94   \n",
            "OrthogonalMatchingPursuit                   -0.01      -0.00 327.15   \n",
            "OrthogonalMatchingPursuitCV                 -0.01      -0.00 327.15   \n",
            "Lars                                        -0.01      -0.00 327.15   \n",
            "LinearRegression                            -0.01      -0.00 327.15   \n",
            "TransformedTargetRegressor                  -0.01      -0.00 327.15   \n",
            "Ridge                                       -0.01      -0.00 327.15   \n",
            "PoissonRegressor                            -0.01      -0.00 327.15   \n",
            "RidgeCV                                     -0.01      -0.00 327.15   \n",
            "Lasso                                       -0.01      -0.00 327.20   \n",
            "ElasticNet                                  -0.01      -0.00 327.22   \n",
            "GammaRegressor                              -0.01      -0.00 327.23   \n",
            "MLPRegressor                                -0.01      -0.00 327.23   \n",
            "TweedieRegressor                            -0.01      -0.00 327.23   \n",
            "GeneralizedLinearRegressor                  -0.01      -0.00 327.23   \n",
            "BayesianRidge                               -0.01      -0.00 327.31   \n",
            "LarsCV                                      -0.01      -0.00 327.31   \n",
            "LassoCV                                     -0.01      -0.00 327.31   \n",
            "LassoLars                                   -0.01      -0.00 327.31   \n",
            "LassoLarsIC                                 -0.01      -0.00 327.31   \n",
            "ElasticNetCV                                -0.01      -0.00 327.31   \n",
            "DummyRegressor                              -0.01      -0.00 327.31   \n",
            "LassoLarsCV                                 -0.01      -0.00 327.31   \n",
            "LGBMRegressor                               -0.08      -0.07 338.24   \n",
            "HistGradientBoostingRegressor               -0.08      -0.07 338.26   \n",
            "NuSVR                                       -0.08      -0.08 339.18   \n",
            "GradientBoostingRegressor                   -0.10      -0.09 341.59   \n",
            "HuberRegressor                              -0.14      -0.14 348.18   \n",
            "KNeighborsRegressor                         -0.19      -0.19 355.77   \n",
            "RandomForestRegressor                       -0.20      -0.20 357.12   \n",
            "SVR                                         -0.20      -0.20 357.80   \n",
            "GaussianProcessRegressor                    -0.21      -0.21 358.93   \n",
            "LinearSVR                                   -0.22      -0.21 359.68   \n",
            "PassiveAggressiveRegressor                  -0.22      -0.22 360.09   \n",
            "BaggingRegressor                            -0.22      -0.22 360.53   \n",
            "AdaBoostRegressor                           -0.23      -0.23 361.89   \n",
            "RANSACRegressor                             -0.30      -0.29 371.12   \n",
            "XGBRegressor                                -0.30      -0.29 371.26   \n",
            "DecisionTreeRegressor                       -0.30      -0.30 371.82   \n",
            "ExtraTreesRegressor                         -0.30      -0.30 372.24   \n",
            "ExtraTreeRegressor                          -0.31      -0.30 372.36   \n",
            "KernelRidge                                 -0.39      -0.38 384.07   \n",
            "\n",
            "                               Time Taken  \n",
            "Model                                      \n",
            "SGDRegressor                         0.01  \n",
            "OrthogonalMatchingPursuit            0.01  \n",
            "OrthogonalMatchingPursuitCV          0.02  \n",
            "Lars                                 0.01  \n",
            "LinearRegression                     0.01  \n",
            "TransformedTargetRegressor           0.01  \n",
            "Ridge                                0.01  \n",
            "PoissonRegressor                     0.01  \n",
            "RidgeCV                              0.01  \n",
            "Lasso                                0.01  \n",
            "ElasticNet                           0.01  \n",
            "GammaRegressor                       0.01  \n",
            "MLPRegressor                         2.50  \n",
            "TweedieRegressor                     0.01  \n",
            "GeneralizedLinearRegressor           0.01  \n",
            "BayesianRidge                        0.01  \n",
            "LarsCV                               0.02  \n",
            "LassoCV                              0.07  \n",
            "LassoLars                            0.01  \n",
            "LassoLarsIC                          0.01  \n",
            "ElasticNetCV                         0.07  \n",
            "DummyRegressor                       0.01  \n",
            "LassoLarsCV                          0.02  \n",
            "LGBMRegressor                        0.12  \n",
            "HistGradientBoostingRegressor        1.20  \n",
            "NuSVR                                0.10  \n",
            "GradientBoostingRegressor            0.08  \n",
            "HuberRegressor                       0.03  \n",
            "KNeighborsRegressor                  0.03  \n",
            "RandomForestRegressor                0.26  \n",
            "SVR                                  0.12  \n",
            "GaussianProcessRegressor             0.26  \n",
            "LinearSVR                            0.01  \n",
            "PassiveAggressiveRegressor           0.01  \n",
            "BaggingRegressor                     0.05  \n",
            "AdaBoostRegressor                    0.05  \n",
            "RANSACRegressor                      0.03  \n",
            "XGBRegressor                         0.10  \n",
            "DecisionTreeRegressor                0.01  \n",
            "ExtraTreesRegressor                  0.18  \n",
            "ExtraTreeRegressor                   0.01  \n",
            "KernelRidge                          0.12  \n"
          ]
        },
        {
          "output_type": "stream",
          "name": "stderr",
          "text": [
            "\n"
          ]
        }
      ],
      "metadata": {
        "ExecuteTime": {
          "end_time": "2021-06-12T14:55:49.188623Z",
          "start_time": "2021-06-12T14:53:30.286645Z"
        },
        "scrolled": false
      }
    },
    {
      "cell_type": "code",
      "execution_count": 61,
      "source": [
        "# Evaluation Function\r\n",
        "def rmse(model, y_test, y_pred, X_train, y_train):\r\n",
        "    r_squared = model.score(X_test, y_test)\r\n",
        "    mse = mean_squared_error(y_test, y_pred)\r\n",
        "    rmse = np.sqrt(mse)\r\n",
        "    print('R-squared: ' + str(r_squared))\r\n",
        "    print('Mean Squared Error: '+ str(rmse))"
      ],
      "outputs": [],
      "metadata": {
        "ExecuteTime": {
          "end_time": "2021-06-12T14:55:49.200244Z",
          "start_time": "2021-06-12T14:55:49.194046Z"
        }
      }
    },
    {
      "cell_type": "code",
      "execution_count": 62,
      "source": [
        "# Create model line scatter plot\r\n",
        "def scatter_plot(y_test, y_pred, model_name):\r\n",
        "    plt.figure(figsize=(10,6))\r\n",
        "    sns.residplot(y_test, y_pred, lowess=True, color='#4682b4',\r\n",
        "              line_kws={'lw': 2, 'color': 'r'})\r\n",
        "    plt.title(str('Price vs Residuals for \\n' + model_name), fontsize=16)\r\n",
        "    plt.xlabel('Price',fontsize=16)\r\n",
        "    plt.xticks(fontsize=13)\r\n",
        "    plt.yticks(fontsize=13)\r\n",
        "    plt.show()"
      ],
      "outputs": [],
      "metadata": {
        "ExecuteTime": {
          "end_time": "2021-04-22T16:36:06.985218Z",
          "start_time": "2021-04-22T16:36:06.979412Z"
        }
      }
    },
    {
      "cell_type": "code",
      "execution_count": 63,
      "source": [
        "# explicitly require this experimental feature\r\n",
        "from sklearn.experimental import enable_hist_gradient_boosting  # noqa\r\n",
        "# now you can import normally from ensemble\r\n",
        "from sklearn.ensemble import HistGradientBoostingRegressor"
      ],
      "outputs": [],
      "metadata": {
        "ExecuteTime": {
          "end_time": "2021-04-22T16:35:42.101581Z",
          "start_time": "2021-04-22T16:35:42.093741Z"
        }
      }
    },
    {
      "cell_type": "code",
      "execution_count": 64,
      "source": [
        "# Histogram-based Gradient Boosting Regression Tree\r\n",
        "hist = HistGradientBoostingRegressor()\r\n",
        "hist.fit(X_train, y_train)\r\n",
        "y_pred = hist.predict(X_test)"
      ],
      "outputs": [],
      "metadata": {
        "ExecuteTime": {
          "end_time": "2021-04-22T16:36:56.245197Z",
          "start_time": "2021-04-22T16:36:52.696975Z"
        }
      }
    },
    {
      "cell_type": "code",
      "execution_count": 65,
      "source": [
        "rmse(hist, y_test, y_pred, X_train, y_train)"
      ],
      "outputs": [
        {
          "output_type": "stream",
          "name": "stdout",
          "text": [
            "R-squared: -0.07273074492898601\n",
            "Mean Squared Error: 338.25959225457814\n"
          ]
        }
      ],
      "metadata": {
        "ExecuteTime": {
          "end_time": "2021-04-22T16:35:44.595316Z",
          "start_time": "2021-04-22T16:35:44.547842Z"
        }
      }
    },
    {
      "cell_type": "code",
      "execution_count": 66,
      "source": [
        "scatter_plot(y_test, y_pred, 'Histogram-based Gradient Boosting Regression Tree')"
      ],
      "outputs": [
        {
          "output_type": "display_data",
          "data": {
            "text/plain": [
              "<Figure size 720x432 with 1 Axes>"
            ],
            "image/png": "[encoded data removed]"
          },
          "metadata": {}
        }
      ],
      "metadata": {
        "ExecuteTime": {
          "end_time": "2021-04-22T16:38:46.714936Z",
          "start_time": "2021-04-22T16:38:45.517444Z"
        }
      }
    },
    {
      "cell_type": "code",
      "execution_count": 67,
      "source": [
        "# Importing dataset\r\n",
        "df = df7\r\n",
        "df.head\r\n",
        "BD4.isnull().sum()"
      ],
      "outputs": [
        {
          "output_type": "execute_result",
          "data": {
            "text/plain": [
              "index              0\n",
              "Data_ped           0\n",
              "Data_env           0\n",
              "Modo de envio      0\n",
              "Nome do cliente    0\n",
              "Cidade             0\n",
              "ID do produto      0\n",
              "Categoria          0\n",
              "Subcategoria       0\n",
              "Nome do produto    0\n",
              "Vendas             0\n",
              "ano                0\n",
              "mes                0\n",
              "dia                0\n",
              "dtype: int64"
            ]
          },
          "metadata": {},
          "execution_count": 67
        }
      ],
      "metadata": {
        "ExecuteTime": {
          "end_time": "2021-06-12T14:53:29.916145Z",
          "start_time": "2021-06-12T14:53:29.857411Z"
        }
      }
    },
    {
      "cell_type": "code",
      "execution_count": 68,
      "source": [
        "df.columns"
      ],
      "outputs": [
        {
          "output_type": "execute_result",
          "data": {
            "text/plain": [
              "Index(['Data_ped', 'Data_env', 'Modo de envio', 'Nome do cliente', 'Cidade',\n",
              "       'ID do produto', 'Categoria', 'Subcategoria', 'Nome do produto',\n",
              "       'Vendas', 'ano', 'mes', 'dia'],\n",
              "      dtype='object')"
            ]
          },
          "metadata": {},
          "execution_count": 68
        }
      ],
      "metadata": {}
    },
    {
      "cell_type": "code",
      "execution_count": 69,
      "source": [
        "df = df.drop(columns=['Data_ped', 'Data_env','ano','Modo de envio','ID do produto','Nome do cliente','Cidade','Categoria', 'Subcategoria', 'Nome do produto'])"
      ],
      "outputs": [],
      "metadata": {}
    },
    {
      "cell_type": "code",
      "execution_count": 70,
      "source": [
        "df.info\r\n",
        "df.head"
      ],
      "outputs": [
        {
          "output_type": "execute_result",
          "data": {
            "text/plain": [
              "<bound method NDFrame.head of       Vendas        mes  dia\n",
              "0     261.96   November    8\n",
              "1     731.94   November    8\n",
              "2      14.62       June   12\n",
              "13    407.98   December    5\n",
              "21     19.46   December    9\n",
              "...      ...        ...  ...\n",
              "9772  123.92       July    3\n",
              "9773  135.95       June   26\n",
              "9780  437.85  September   14\n",
              "9781  673.57  September   14\n",
              "9795    3.80        May   21\n",
              "\n",
              "[2503 rows x 3 columns]>"
            ]
          },
          "metadata": {},
          "execution_count": 70
        }
      ],
      "metadata": {}
    },
    {
      "cell_type": "code",
      "execution_count": 71,
      "source": [
        "# Creating train test split\r\n",
        "import calendar\r\n",
        "dic = {'01': 'January', '02': 'February', '03': 'March', '04': 'April', '05': 'May','06': 'June', '07': 'July', '08': 'August', '09': 'September', '10': 'October', '11': 'November', '12': 'December'}\r\n",
        "dic = dict((v,k) for k,v in dic.items())\r\n",
        "df['Mes'] = (df['mes'].apply(lambda X: dic[X])).astype(int)\r\n",
        "y = df['Vendas']\r\n",
        "x = df.drop(columns=['mes', 'Vendas'])\r\n",
        "x"
      ],
      "outputs": [
        {
          "output_type": "execute_result",
          "data": {
            "text/plain": [
              "      dia  Mes\n",
              "0       8   11\n",
              "1       8   11\n",
              "2      12    6\n",
              "13      5   12\n",
              "21      9   12\n",
              "...   ...  ...\n",
              "9772    3    7\n",
              "9773   26    6\n",
              "9780   14    9\n",
              "9781   14    9\n",
              "9795   21    5\n",
              "\n",
              "[2503 rows x 2 columns]"
            ],
            "text/html": [
              "<div>\n",
              "<style scoped>\n",
              "    .dataframe tbody tr th:only-of-type {\n",
              "        vertical-align: middle;\n",
              "    }\n",
              "\n",
              "    .dataframe tbody tr th {\n",
              "        vertical-align: top;\n",
              "    }\n",
              "\n",
              "    .dataframe thead th {\n",
              "        text-align: right;\n",
              "    }\n",
              "</style>\n",
              "<table border=\"1\" class=\"dataframe\">\n",
              "  <thead>\n",
              "    <tr style=\"text-align: right;\">\n",
              "      <th></th>\n",
              "      <th>dia</th>\n",
              "      <th>Mes</th>\n",
              "    </tr>\n",
              "  </thead>\n",
              "  <tbody>\n",
              "    <tr>\n",
              "      <th>0</th>\n",
              "      <td>8</td>\n",
              "      <td>11</td>\n",
              "    </tr>\n",
              "    <tr>\n",
              "      <th>1</th>\n",
              "      <td>8</td>\n",
              "      <td>11</td>\n",
              "    </tr>\n",
              "    <tr>\n",
              "      <th>2</th>\n",
              "      <td>12</td>\n",
              "      <td>6</td>\n",
              "    </tr>\n",
              "    <tr>\n",
              "      <th>13</th>\n",
              "      <td>5</td>\n",
              "      <td>12</td>\n",
              "    </tr>\n",
              "    <tr>\n",
              "      <th>21</th>\n",
              "      <td>9</td>\n",
              "      <td>12</td>\n",
              "    </tr>\n",
              "    <tr>\n",
              "      <th>...</th>\n",
              "      <td>...</td>\n",
              "      <td>...</td>\n",
              "    </tr>\n",
              "    <tr>\n",
              "      <th>9772</th>\n",
              "      <td>3</td>\n",
              "      <td>7</td>\n",
              "    </tr>\n",
              "    <tr>\n",
              "      <th>9773</th>\n",
              "      <td>26</td>\n",
              "      <td>6</td>\n",
              "    </tr>\n",
              "    <tr>\n",
              "      <th>9780</th>\n",
              "      <td>14</td>\n",
              "      <td>9</td>\n",
              "    </tr>\n",
              "    <tr>\n",
              "      <th>9781</th>\n",
              "      <td>14</td>\n",
              "      <td>9</td>\n",
              "    </tr>\n",
              "    <tr>\n",
              "      <th>9795</th>\n",
              "      <td>21</td>\n",
              "      <td>5</td>\n",
              "    </tr>\n",
              "  </tbody>\n",
              "</table>\n",
              "<p>2503 rows × 2 columns</p>\n",
              "</div>"
            ]
          },
          "metadata": {},
          "execution_count": 71
        }
      ],
      "metadata": {
        "ExecuteTime": {
          "end_time": "2021-06-12T14:53:30.266824Z",
          "start_time": "2021-06-12T14:53:30.261222Z"
        }
      }
    },
    {
      "cell_type": "code",
      "execution_count": 72,
      "source": [
        "df.head"
      ],
      "outputs": [
        {
          "output_type": "execute_result",
          "data": {
            "text/plain": [
              "<bound method NDFrame.head of       Vendas        mes  dia  Mes\n",
              "0     261.96   November    8   11\n",
              "1     731.94   November    8   11\n",
              "2      14.62       June   12    6\n",
              "13    407.98   December    5   12\n",
              "21     19.46   December    9   12\n",
              "...      ...        ...  ...  ...\n",
              "9772  123.92       July    3    7\n",
              "9773  135.95       June   26    6\n",
              "9780  437.85  September   14    9\n",
              "9781  673.57  September   14    9\n",
              "9795    3.80        May   21    5\n",
              "\n",
              "[2503 rows x 4 columns]>"
            ]
          },
          "metadata": {},
          "execution_count": 72
        }
      ],
      "metadata": {}
    },
    {
      "cell_type": "code",
      "execution_count": 73,
      "source": [
        "# Call train_test_split on the data and capture the results\r\n",
        "X_train, X_test, y_train, y_test = train_test_split(x, y, random_state=3,test_size=0.25)\r\n",
        "\r\n",
        "# Checking if the training set was correcly splitted\r\n",
        "print(\"Training set - Features: \", X_train.shape, \"Target: \", y_train.shape)\r\n",
        "print(\"Test set - Features: \", X_test.shape, \"Target: \",y_test.shape)"
      ],
      "outputs": [
        {
          "output_type": "stream",
          "name": "stdout",
          "text": [
            "Training set - Features:  (1877, 2) Target:  (1877,)\n",
            "Test set - Features:  (626, 2) Target:  (626,)\n"
          ]
        }
      ],
      "metadata": {
        "ExecuteTime": {
          "end_time": "2021-06-12T14:53:30.283533Z",
          "start_time": "2021-06-12T14:53:30.269787Z"
        }
      }
    },
    {
      "cell_type": "code",
      "execution_count": 74,
      "source": [
        "reg = LazyRegressor(verbose=0, ignore_warnings=True, custom_metric=None)\r\n",
        "models, predictions = reg.fit(X_train, X_test, y_train, y_test)\r\n",
        "\r\n",
        "print(models)"
      ],
      "outputs": [
        {
          "output_type": "stream",
          "name": "stderr",
          "text": [
            "100%|██████████| 42/42 [00:06<00:00,  6.42it/s]"
          ]
        },
        {
          "output_type": "stream",
          "name": "stdout",
          "text": [
            "                               Adjusted R-Squared  R-Squared   RMSE  \\\n",
            "Model                                                                 \n",
            "MLPRegressor                                -0.00       0.00 324.75   \n",
            "SGDRegressor                                -0.01      -0.00 325.68   \n",
            "BayesianRidge                               -0.01      -0.01 325.90   \n",
            "LassoLars                                   -0.01      -0.01 325.90   \n",
            "LassoLarsCV                                 -0.01      -0.01 325.90   \n",
            "LassoCV                                     -0.01      -0.01 325.90   \n",
            "LarsCV                                      -0.01      -0.01 325.90   \n",
            "LassoLarsIC                                 -0.01      -0.01 325.90   \n",
            "ElasticNetCV                                -0.01      -0.01 325.90   \n",
            "DummyRegressor                              -0.01      -0.01 325.90   \n",
            "GeneralizedLinearRegressor                  -0.01      -0.01 325.92   \n",
            "TweedieRegressor                            -0.01      -0.01 325.92   \n",
            "GammaRegressor                              -0.01      -0.01 325.92   \n",
            "ElasticNet                                  -0.01      -0.01 325.93   \n",
            "Lasso                                       -0.01      -0.01 325.97   \n",
            "OrthogonalMatchingPursuit                   -0.01      -0.01 325.97   \n",
            "PoissonRegressor                            -0.01      -0.01 326.00   \n",
            "RidgeCV                                     -0.01      -0.01 326.02   \n",
            "Ridge                                       -0.01      -0.01 326.02   \n",
            "TransformedTargetRegressor                  -0.01      -0.01 326.02   \n",
            "LinearRegression                            -0.01      -0.01 326.02   \n",
            "OrthogonalMatchingPursuitCV                 -0.01      -0.01 326.02   \n",
            "Lars                                        -0.01      -0.01 326.02   \n",
            "GradientBoostingRegressor                   -0.03      -0.03 329.15   \n",
            "LGBMRegressor                               -0.07      -0.07 336.10   \n",
            "HistGradientBoostingRegressor               -0.07      -0.07 336.23   \n",
            "GaussianProcessRegressor                    -0.09      -0.08 338.09   \n",
            "NuSVR                                       -0.09      -0.09 339.36   \n",
            "AdaBoostRegressor                           -0.13      -0.12 344.60   \n",
            "KNeighborsRegressor                         -0.16      -0.16 349.46   \n",
            "HuberRegressor                              -0.16      -0.16 349.46   \n",
            "RandomForestRegressor                       -0.17      -0.16 350.24   \n",
            "BaggingRegressor                            -0.17      -0.16 350.48   \n",
            "XGBRegressor                                -0.17      -0.17 351.61   \n",
            "ExtraTreesRegressor                         -0.18      -0.17 352.12   \n",
            "DecisionTreeRegressor                       -0.18      -0.18 352.63   \n",
            "ExtraTreeRegressor                          -0.18      -0.18 352.96   \n",
            "SVR                                         -0.22      -0.21 357.64   \n",
            "PassiveAggressiveRegressor                  -0.22      -0.22 359.01   \n",
            "LinearSVR                                   -0.23      -0.22 359.21   \n",
            "RANSACRegressor                             -0.29      -0.29 368.59   \n",
            "KernelRidge                                 -0.39      -0.38 382.10   \n",
            "\n",
            "                               Time Taken  \n",
            "Model                                      \n",
            "MLPRegressor                         3.18  \n",
            "SGDRegressor                         0.01  \n",
            "BayesianRidge                        0.01  \n",
            "LassoLars                            0.01  \n",
            "LassoLarsCV                          0.02  \n",
            "LassoCV                              0.07  \n",
            "LarsCV                               0.02  \n",
            "LassoLarsIC                          0.01  \n",
            "ElasticNetCV                         0.08  \n",
            "DummyRegressor                       0.01  \n",
            "GeneralizedLinearRegressor           0.01  \n",
            "TweedieRegressor                     0.01  \n",
            "GammaRegressor                       0.01  \n",
            "ElasticNet                           0.01  \n",
            "Lasso                                0.01  \n",
            "OrthogonalMatchingPursuit            0.01  \n",
            "PoissonRegressor                     0.01  \n",
            "RidgeCV                              0.01  \n",
            "Ridge                                0.01  \n",
            "TransformedTargetRegressor           0.01  \n",
            "LinearRegression                     0.01  \n",
            "OrthogonalMatchingPursuitCV          0.02  \n",
            "Lars                                 0.01  \n",
            "GradientBoostingRegressor            0.10  \n",
            "LGBMRegressor                        0.12  \n",
            "HistGradientBoostingRegressor        1.02  \n",
            "GaussianProcessRegressor             0.42  \n",
            "NuSVR                                0.14  \n",
            "AdaBoostRegressor                    0.05  \n",
            "KNeighborsRegressor                  0.02  \n",
            "HuberRegressor                       0.03  \n",
            "RandomForestRegressor                0.26  \n",
            "BaggingRegressor                     0.05  \n",
            "XGBRegressor                         0.11  \n",
            "ExtraTreesRegressor                  0.18  \n",
            "DecisionTreeRegressor                0.01  \n",
            "ExtraTreeRegressor                   0.01  \n",
            "SVR                                  0.17  \n",
            "PassiveAggressiveRegressor           0.01  \n",
            "LinearSVR                            0.01  \n",
            "RANSACRegressor                      0.03  \n",
            "KernelRidge                          0.20  \n"
          ]
        },
        {
          "output_type": "stream",
          "name": "stderr",
          "text": [
            "\n"
          ]
        }
      ],
      "metadata": {
        "ExecuteTime": {
          "end_time": "2021-06-12T14:55:49.188623Z",
          "start_time": "2021-06-12T14:53:30.286645Z"
        },
        "scrolled": false
      }
    },
    {
      "cell_type": "code",
      "execution_count": 75,
      "source": [
        "# Evaluation Function\r\n",
        "def rmse(model, y_test, y_pred, X_train, y_train):\r\n",
        "    r_squared = model.score(X_test, y_test)\r\n",
        "    mse = mean_squared_error(y_test, y_pred)\r\n",
        "    rmse = np.sqrt(mse)\r\n",
        "    print('R-squared: ' + str(r_squared))\r\n",
        "    print('Mean Squared Error: '+ str(rmse))"
      ],
      "outputs": [],
      "metadata": {
        "ExecuteTime": {
          "end_time": "2021-06-12T14:55:49.200244Z",
          "start_time": "2021-06-12T14:55:49.194046Z"
        }
      }
    },
    {
      "cell_type": "code",
      "execution_count": 76,
      "source": [
        "# Create model line scatter plot\r\n",
        "def scatter_plot(y_test, y_pred, model_name):\r\n",
        "    plt.figure(figsize=(10,6))\r\n",
        "    sns.residplot(y_test, y_pred, lowess=True, color='#4682b4',\r\n",
        "              line_kws={'lw': 2, 'color': 'r'})\r\n",
        "    plt.title(str('Price vs Residuals for \\n' + model_name), fontsize=16)\r\n",
        "    plt.xlabel('Price',fontsize=16)\r\n",
        "    plt.xticks(fontsize=13)\r\n",
        "    plt.yticks(fontsize=13)\r\n",
        "    plt.show()"
      ],
      "outputs": [],
      "metadata": {
        "ExecuteTime": {
          "end_time": "2021-04-22T16:36:06.985218Z",
          "start_time": "2021-04-22T16:36:06.979412Z"
        }
      }
    },
    {
      "cell_type": "code",
      "execution_count": 77,
      "source": [
        "# explicitly require this experimental feature\r\n",
        "from sklearn.experimental import enable_hist_gradient_boosting  # noqa\r\n",
        "# now you can import normally from ensemble\r\n",
        "from sklearn.ensemble import HistGradientBoostingRegressor"
      ],
      "outputs": [],
      "metadata": {
        "ExecuteTime": {
          "end_time": "2021-04-22T16:35:42.101581Z",
          "start_time": "2021-04-22T16:35:42.093741Z"
        }
      }
    },
    {
      "cell_type": "code",
      "execution_count": 78,
      "source": [
        "# Histogram-based Gradient Boosting Regression Tree\r\n",
        "hist = HistGradientBoostingRegressor()\r\n",
        "hist.fit(X_train, y_train)\r\n",
        "y_pred = hist.predict(X_test)"
      ],
      "outputs": [],
      "metadata": {
        "ExecuteTime": {
          "end_time": "2021-04-22T16:36:56.245197Z",
          "start_time": "2021-04-22T16:36:52.696975Z"
        }
      }
    },
    {
      "cell_type": "code",
      "execution_count": 79,
      "source": [
        "rmse(hist, y_test, y_pred, X_train, y_train)"
      ],
      "outputs": [
        {
          "output_type": "stream",
          "name": "stdout",
          "text": [
            "R-squared: -0.07067928868130213\n",
            "Mean Squared Error: 336.2324022621217\n"
          ]
        }
      ],
      "metadata": {
        "ExecuteTime": {
          "end_time": "2021-04-22T16:35:44.595316Z",
          "start_time": "2021-04-22T16:35:44.547842Z"
        }
      }
    },
    {
      "cell_type": "code",
      "execution_count": 80,
      "source": [
        "scatter_plot(y_test, y_pred, 'Histogram-based Gradient Boosting Regression Tree')"
      ],
      "outputs": [
        {
          "output_type": "display_data",
          "data": {
            "text/plain": [
              "<Figure size 720x432 with 1 Axes>"
            ],
            "image/png": "[encoded data removed]"
          },
          "metadata": {}
        }
      ],
      "metadata": {
        "ExecuteTime": {
          "end_time": "2021-04-22T16:38:46.714936Z",
          "start_time": "2021-04-22T16:38:45.517444Z"
        }
      }
    },
    {
      "cell_type": "code",
      "execution_count": 81,
      "source": [
        "# Importing dataset\r\n",
        "df = df8\r\n",
        "df.head\r\n",
        "BD4.isnull().sum()"
      ],
      "outputs": [
        {
          "output_type": "execute_result",
          "data": {
            "text/plain": [
              "index              0\n",
              "Data_ped           0\n",
              "Data_env           0\n",
              "Modo de envio      0\n",
              "Nome do cliente    0\n",
              "Cidade             0\n",
              "ID do produto      0\n",
              "Categoria          0\n",
              "Subcategoria       0\n",
              "Nome do produto    0\n",
              "Vendas             0\n",
              "ano                0\n",
              "mes                0\n",
              "dia                0\n",
              "dtype: int64"
            ]
          },
          "metadata": {},
          "execution_count": 81
        }
      ],
      "metadata": {
        "ExecuteTime": {
          "end_time": "2021-06-12T14:53:29.916145Z",
          "start_time": "2021-06-12T14:53:29.857411Z"
        }
      }
    },
    {
      "cell_type": "code",
      "execution_count": 82,
      "source": [
        "df.columns"
      ],
      "outputs": [
        {
          "output_type": "execute_result",
          "data": {
            "text/plain": [
              "Index(['Data_ped', 'Data_env', 'Modo de envio', 'Nome do cliente', 'Cidade',\n",
              "       'ID do produto', 'Categoria', 'Subcategoria', 'Nome do produto',\n",
              "       'Vendas', 'ano', 'mes', 'dia'],\n",
              "      dtype='object')"
            ]
          },
          "metadata": {},
          "execution_count": 82
        }
      ],
      "metadata": {}
    },
    {
      "cell_type": "code",
      "execution_count": 83,
      "source": [
        "df = df.drop(columns=['Data_ped', 'Data_env','ano','Modo de envio','ID do produto','Nome do cliente','Cidade','Categoria', 'Subcategoria', 'Nome do produto'])"
      ],
      "outputs": [],
      "metadata": {}
    },
    {
      "cell_type": "code",
      "execution_count": 84,
      "source": [
        "df.info\r\n",
        "df.head"
      ],
      "outputs": [
        {
          "output_type": "execute_result",
          "data": {
            "text/plain": [
              "<bound method NDFrame.head of       Vendas        mes  dia\n",
              "12     15.55      April   15\n",
              "23     71.37       July   16\n",
              "34     29.47    October   19\n",
              "41    147.17  September   10\n",
              "43     95.62  September   19\n",
              "...      ...        ...  ...\n",
              "9768   50.04   December    7\n",
              "9787 1023.33      March   27\n",
              "9788  600.56      March   27\n",
              "9789   39.99      March   27\n",
              "9790  211.25      March   27\n",
              "\n",
              "[3217 rows x 3 columns]>"
            ]
          },
          "metadata": {},
          "execution_count": 84
        }
      ],
      "metadata": {}
    },
    {
      "cell_type": "code",
      "execution_count": 85,
      "source": [
        "# Creating train test split\r\n",
        "import calendar\r\n",
        "dic = {'01': 'January', '02': 'February', '03': 'March', '04': 'April', '05': 'May','06': 'June', '07': 'July', '08': 'August', '09': 'September', '10': 'October', '11': 'November', '12': 'December'}\r\n",
        "dic = dict((v,k) for k,v in dic.items())\r\n",
        "df['Mes'] = (df['mes'].apply(lambda X: dic[X])).astype(int)\r\n",
        "y = df['Vendas']\r\n",
        "x = df.drop(columns=['mes', 'Vendas'])\r\n",
        "x"
      ],
      "outputs": [
        {
          "output_type": "execute_result",
          "data": {
            "text/plain": [
              "      dia  Mes\n",
              "12     15    4\n",
              "23     16    7\n",
              "34     19   10\n",
              "41     10    9\n",
              "43     19    9\n",
              "...   ...  ...\n",
              "9768    7   12\n",
              "9787   27    3\n",
              "9788   27    3\n",
              "9789   27    3\n",
              "9790   27    3\n",
              "\n",
              "[3217 rows x 2 columns]"
            ],
            "text/html": [
              "<div>\n",
              "<style scoped>\n",
              "    .dataframe tbody tr th:only-of-type {\n",
              "        vertical-align: middle;\n",
              "    }\n",
              "\n",
              "    .dataframe tbody tr th {\n",
              "        vertical-align: top;\n",
              "    }\n",
              "\n",
              "    .dataframe thead th {\n",
              "        text-align: right;\n",
              "    }\n",
              "</style>\n",
              "<table border=\"1\" class=\"dataframe\">\n",
              "  <thead>\n",
              "    <tr style=\"text-align: right;\">\n",
              "      <th></th>\n",
              "      <th>dia</th>\n",
              "      <th>Mes</th>\n",
              "    </tr>\n",
              "  </thead>\n",
              "  <tbody>\n",
              "    <tr>\n",
              "      <th>12</th>\n",
              "      <td>15</td>\n",
              "      <td>4</td>\n",
              "    </tr>\n",
              "    <tr>\n",
              "      <th>23</th>\n",
              "      <td>16</td>\n",
              "      <td>7</td>\n",
              "    </tr>\n",
              "    <tr>\n",
              "      <th>34</th>\n",
              "      <td>19</td>\n",
              "      <td>10</td>\n",
              "    </tr>\n",
              "    <tr>\n",
              "      <th>41</th>\n",
              "      <td>10</td>\n",
              "      <td>9</td>\n",
              "    </tr>\n",
              "    <tr>\n",
              "      <th>43</th>\n",
              "      <td>19</td>\n",
              "      <td>9</td>\n",
              "    </tr>\n",
              "    <tr>\n",
              "      <th>...</th>\n",
              "      <td>...</td>\n",
              "      <td>...</td>\n",
              "    </tr>\n",
              "    <tr>\n",
              "      <th>9768</th>\n",
              "      <td>7</td>\n",
              "      <td>12</td>\n",
              "    </tr>\n",
              "    <tr>\n",
              "      <th>9787</th>\n",
              "      <td>27</td>\n",
              "      <td>3</td>\n",
              "    </tr>\n",
              "    <tr>\n",
              "      <th>9788</th>\n",
              "      <td>27</td>\n",
              "      <td>3</td>\n",
              "    </tr>\n",
              "    <tr>\n",
              "      <th>9789</th>\n",
              "      <td>27</td>\n",
              "      <td>3</td>\n",
              "    </tr>\n",
              "    <tr>\n",
              "      <th>9790</th>\n",
              "      <td>27</td>\n",
              "      <td>3</td>\n",
              "    </tr>\n",
              "  </tbody>\n",
              "</table>\n",
              "<p>3217 rows × 2 columns</p>\n",
              "</div>"
            ]
          },
          "metadata": {},
          "execution_count": 85
        }
      ],
      "metadata": {
        "ExecuteTime": {
          "end_time": "2021-06-12T14:53:30.266824Z",
          "start_time": "2021-06-12T14:53:30.261222Z"
        }
      }
    },
    {
      "cell_type": "code",
      "execution_count": 86,
      "source": [
        "df.head"
      ],
      "outputs": [
        {
          "output_type": "execute_result",
          "data": {
            "text/plain": [
              "<bound method NDFrame.head of       Vendas        mes  dia  Mes\n",
              "12     15.55      April   15    4\n",
              "23     71.37       July   16    7\n",
              "34     29.47    October   19   10\n",
              "41    147.17  September   10    9\n",
              "43     95.62  September   19    9\n",
              "...      ...        ...  ...  ...\n",
              "9768   50.04   December    7   12\n",
              "9787 1023.33      March   27    3\n",
              "9788  600.56      March   27    3\n",
              "9789   39.99      March   27    3\n",
              "9790  211.25      March   27    3\n",
              "\n",
              "[3217 rows x 4 columns]>"
            ]
          },
          "metadata": {},
          "execution_count": 86
        }
      ],
      "metadata": {}
    },
    {
      "cell_type": "code",
      "execution_count": 87,
      "source": [
        "# Call train_test_split on the data and capture the results\r\n",
        "X_train, X_test, y_train, y_test = train_test_split(x, y, random_state=3,test_size=0.25)\r\n",
        "\r\n",
        "# Checking if the training set was correcly splitted\r\n",
        "print(\"Training set - Features: \", X_train.shape, \"Target: \", y_train.shape)\r\n",
        "print(\"Test set - Features: \", X_test.shape, \"Target: \",y_test.shape)"
      ],
      "outputs": [
        {
          "output_type": "stream",
          "name": "stdout",
          "text": [
            "Training set - Features:  (2412, 2) Target:  (2412,)\n",
            "Test set - Features:  (805, 2) Target:  (805,)\n"
          ]
        }
      ],
      "metadata": {
        "ExecuteTime": {
          "end_time": "2021-06-12T14:53:30.283533Z",
          "start_time": "2021-06-12T14:53:30.269787Z"
        }
      }
    },
    {
      "cell_type": "code",
      "execution_count": 88,
      "source": [
        "reg = LazyRegressor(verbose=0, ignore_warnings=True, custom_metric=None)\r\n",
        "models, predictions = reg.fit(X_train, X_test, y_train, y_test)\r\n",
        "\r\n",
        "print(models)"
      ],
      "outputs": [
        {
          "output_type": "stream",
          "name": "stderr",
          "text": [
            "100%|██████████| 42/42 [00:08<00:00,  5.20it/s]"
          ]
        },
        {
          "output_type": "stream",
          "name": "stdout",
          "text": [
            "                               Adjusted R-Squared  R-Squared   RMSE  \\\n",
            "Model                                                                 \n",
            "MLPRegressor                                -0.00       0.00 289.33   \n",
            "SGDRegressor                                -0.00      -0.00 289.38   \n",
            "LassoLars                                   -0.00      -0.00 289.40   \n",
            "LassoLarsCV                                 -0.00      -0.00 289.40   \n",
            "LassoCV                                     -0.00      -0.00 289.40   \n",
            "LarsCV                                      -0.00      -0.00 289.40   \n",
            "LassoLarsIC                                 -0.00      -0.00 289.40   \n",
            "DummyRegressor                              -0.00      -0.00 289.40   \n",
            "ElasticNetCV                                -0.00      -0.00 289.40   \n",
            "BayesianRidge                               -0.00      -0.00 289.40   \n",
            "GammaRegressor                              -0.00      -0.00 289.60   \n",
            "GeneralizedLinearRegressor                  -0.00      -0.00 289.61   \n",
            "TweedieRegressor                            -0.00      -0.00 289.61   \n",
            "ElasticNet                                  -0.00      -0.00 289.61   \n",
            "Lasso                                       -0.00      -0.00 289.63   \n",
            "OrthogonalMatchingPursuit                   -0.01      -0.00 289.75   \n",
            "PoissonRegressor                            -0.01      -0.00 289.83   \n",
            "RidgeCV                                     -0.01      -0.00 289.83   \n",
            "Ridge                                       -0.01      -0.00 289.83   \n",
            "TransformedTargetRegressor                  -0.01      -0.00 289.83   \n",
            "OrthogonalMatchingPursuitCV                 -0.01      -0.00 289.83   \n",
            "Lars                                        -0.01      -0.00 289.83   \n",
            "LinearRegression                            -0.01      -0.00 289.83   \n",
            "GradientBoostingRegressor                   -0.03      -0.03 293.79   \n",
            "LGBMRegressor                               -0.05      -0.05 296.50   \n",
            "HistGradientBoostingRegressor               -0.05      -0.05 296.51   \n",
            "GaussianProcessRegressor                    -0.05      -0.05 296.70   \n",
            "NuSVR                                       -0.06      -0.06 297.34   \n",
            "RandomForestRegressor                       -0.11      -0.11 304.74   \n",
            "HuberRegressor                              -0.11      -0.11 305.11   \n",
            "XGBRegressor                                -0.12      -0.11 305.33   \n",
            "ExtraTreeRegressor                          -0.12      -0.12 306.15   \n",
            "ExtraTreesRegressor                         -0.12      -0.12 306.26   \n",
            "BaggingRegressor                            -0.14      -0.13 307.93   \n",
            "DecisionTreeRegressor                       -0.14      -0.14 308.35   \n",
            "SVR                                         -0.18      -0.18 313.67   \n",
            "PassiveAggressiveRegressor                  -0.18      -0.18 313.69   \n",
            "KNeighborsRegressor                         -0.18      -0.18 313.98   \n",
            "LinearSVR                                   -0.19      -0.18 314.89   \n",
            "RANSACRegressor                             -0.26      -0.26 324.42   \n",
            "AdaBoostRegressor                           -0.35      -0.35 335.69   \n",
            "KernelRidge                                 -0.36      -0.35 336.73   \n",
            "\n",
            "                               Time Taken  \n",
            "Model                                      \n",
            "MLPRegressor                         4.01  \n",
            "SGDRegressor                         0.01  \n",
            "LassoLars                            0.01  \n",
            "LassoLarsCV                          0.02  \n",
            "LassoCV                              0.08  \n",
            "LarsCV                               0.02  \n",
            "LassoLarsIC                          0.01  \n",
            "DummyRegressor                       0.01  \n",
            "ElasticNetCV                         0.08  \n",
            "BayesianRidge                        0.01  \n",
            "GammaRegressor                       0.01  \n",
            "GeneralizedLinearRegressor           0.01  \n",
            "TweedieRegressor                     0.01  \n",
            "ElasticNet                           0.01  \n",
            "Lasso                                0.01  \n",
            "OrthogonalMatchingPursuit            0.01  \n",
            "PoissonRegressor                     0.01  \n",
            "RidgeCV                              0.01  \n",
            "Ridge                                0.01  \n",
            "TransformedTargetRegressor           0.01  \n",
            "OrthogonalMatchingPursuitCV          0.02  \n",
            "Lars                                 0.01  \n",
            "LinearRegression                     0.01  \n",
            "GradientBoostingRegressor            0.10  \n",
            "LGBMRegressor                        0.12  \n",
            "HistGradientBoostingRegressor        1.03  \n",
            "GaussianProcessRegressor             0.72  \n",
            "NuSVR                                0.21  \n",
            "RandomForestRegressor                0.28  \n",
            "HuberRegressor                       0.03  \n",
            "XGBRegressor                         0.13  \n",
            "ExtraTreeRegressor                   0.01  \n",
            "ExtraTreesRegressor                  0.21  \n",
            "BaggingRegressor                     0.05  \n",
            "DecisionTreeRegressor                0.01  \n",
            "SVR                                  0.28  \n",
            "PassiveAggressiveRegressor           0.01  \n",
            "KNeighborsRegressor                  0.03  \n",
            "LinearSVR                            0.01  \n",
            "RANSACRegressor                      0.02  \n",
            "AdaBoostRegressor                    0.05  \n",
            "KernelRidge                          0.31  \n"
          ]
        },
        {
          "output_type": "stream",
          "name": "stderr",
          "text": [
            "\n"
          ]
        }
      ],
      "metadata": {
        "ExecuteTime": {
          "end_time": "2021-06-12T14:55:49.188623Z",
          "start_time": "2021-06-12T14:53:30.286645Z"
        },
        "scrolled": false
      }
    },
    {
      "cell_type": "code",
      "execution_count": 89,
      "source": [
        "# Evaluation Function\r\n",
        "def rmse(model, y_test, y_pred, X_train, y_train):\r\n",
        "    r_squared = model.score(X_test, y_test)\r\n",
        "    mse = mean_squared_error(y_test, y_pred)\r\n",
        "    rmse = np.sqrt(mse)\r\n",
        "    print('R-squared: ' + str(r_squared))\r\n",
        "    print('Mean Squared Error: '+ str(rmse))"
      ],
      "outputs": [],
      "metadata": {
        "ExecuteTime": {
          "end_time": "2021-06-12T14:55:49.200244Z",
          "start_time": "2021-06-12T14:55:49.194046Z"
        }
      }
    },
    {
      "cell_type": "code",
      "execution_count": 90,
      "source": [
        "# Create model line scatter plot\r\n",
        "def scatter_plot(y_test, y_pred, model_name):\r\n",
        "    plt.figure(figsize=(10,6))\r\n",
        "    sns.residplot(y_test, y_pred, lowess=True, color='#4682b4',\r\n",
        "              line_kws={'lw': 2, 'color': 'r'})\r\n",
        "    plt.title(str('Price vs Residuals for \\n' + model_name), fontsize=16)\r\n",
        "    plt.xlabel('Price',fontsize=16)\r\n",
        "    plt.xticks(fontsize=13)\r\n",
        "    plt.yticks(fontsize=13)\r\n",
        "    plt.show()"
      ],
      "outputs": [],
      "metadata": {
        "ExecuteTime": {
          "end_time": "2021-04-22T16:36:06.985218Z",
          "start_time": "2021-04-22T16:36:06.979412Z"
        }
      }
    },
    {
      "cell_type": "code",
      "execution_count": 91,
      "source": [
        "# explicitly require this experimental feature\r\n",
        "from sklearn.experimental import enable_hist_gradient_boosting  # noqa\r\n",
        "# now you can import normally from ensemble\r\n",
        "from sklearn.ensemble import HistGradientBoostingRegressor"
      ],
      "outputs": [],
      "metadata": {
        "ExecuteTime": {
          "end_time": "2021-04-22T16:35:42.101581Z",
          "start_time": "2021-04-22T16:35:42.093741Z"
        }
      }
    },
    {
      "cell_type": "code",
      "execution_count": 92,
      "source": [
        "# Histogram-based Gradient Boosting Regression Tree\r\n",
        "hist = HistGradientBoostingRegressor()\r\n",
        "hist.fit(X_train, y_train)\r\n",
        "y_pred = hist.predict(X_test)"
      ],
      "outputs": [],
      "metadata": {
        "ExecuteTime": {
          "end_time": "2021-04-22T16:36:56.245197Z",
          "start_time": "2021-04-22T16:36:52.696975Z"
        }
      }
    },
    {
      "cell_type": "code",
      "execution_count": 93,
      "source": [
        "rmse(hist, y_test, y_pred, X_train, y_train)"
      ],
      "outputs": [
        {
          "output_type": "stream",
          "name": "stdout",
          "text": [
            "R-squared: -0.04993263002338133\n",
            "Mean Squared Error: 296.5083743756094\n"
          ]
        }
      ],
      "metadata": {
        "ExecuteTime": {
          "end_time": "2021-04-22T16:35:44.595316Z",
          "start_time": "2021-04-22T16:35:44.547842Z"
        }
      }
    },
    {
      "cell_type": "code",
      "execution_count": 94,
      "source": [
        "scatter_plot(y_test, y_pred, 'Histogram-based Gradient Boosting Regression Tree')"
      ],
      "outputs": [
        {
          "output_type": "display_data",
          "data": {
            "text/plain": [
              "<Figure size 720x432 with 1 Axes>"
            ],
            "image/png": "[encoded data removed]"
          },
          "metadata": {}
        }
      ],
      "metadata": {
        "ExecuteTime": {
          "end_time": "2021-04-22T16:38:46.714936Z",
          "start_time": "2021-04-22T16:38:45.517444Z"
        }
      }
    },
    {
      "cell_type": "markdown",
      "source": [
        "O modelo que melhor se adequou foi MLPRegressor  RMSE 289.33   com isso vamos trabalhar mlhor nele "
      ],
      "metadata": {}
    },
    {
      "cell_type": "markdown",
      "source": [
        "Com isso vemos que ignorando os dados e so pensando na data de venda e valores não conseguiremos chegar em um modelo ideal."
      ],
      "metadata": {}
    },
    {
      "cell_type": "code",
      "execution_count": 172,
      "source": [
        "df=BD4\r\n",
        "y = df['Vendas']\r\n",
        "X = df.drop(columns=['mes', 'Vendas'])\r\n",
        "df.info()"
      ],
      "outputs": [
        {
          "output_type": "stream",
          "name": "stdout",
          "text": [
            "<class 'pandas.core.frame.DataFrame'>\n",
            "RangeIndex: 9677 entries, 0 to 9676\n",
            "Data columns (total 14 columns):\n",
            " #   Column           Non-Null Count  Dtype         \n",
            "---  ------           --------------  -----         \n",
            " 0   index            9677 non-null   int64         \n",
            " 1   Data_ped         9677 non-null   datetime64[ns]\n",
            " 2   Data_env         9677 non-null   datetime64[ns]\n",
            " 3   Modo de envio    9677 non-null   object        \n",
            " 4   Nome do cliente  9677 non-null   object        \n",
            " 5   Cidade           9677 non-null   object        \n",
            " 6   ID do produto    9677 non-null   object        \n",
            " 7   Categoria        9677 non-null   object        \n",
            " 8   Subcategoria     9677 non-null   object        \n",
            " 9   Nome do produto  9677 non-null   object        \n",
            " 10  Vendas           9677 non-null   float64       \n",
            " 11  ano              9677 non-null   int64         \n",
            " 12  mes              9677 non-null   object        \n",
            " 13  dia              9677 non-null   int64         \n",
            "dtypes: datetime64[ns](2), float64(1), int64(3), object(8)\n",
            "memory usage: 1.0+ MB\n"
          ]
        }
      ],
      "metadata": {}
    },
    {
      "cell_type": "code",
      "execution_count": 110,
      "source": [
        "#df = BD4.drop(columns=['Data_ped', 'Data_env','ano','Modo de envio','ID do produto','Nome do cliente','Cidade','Categoria', 'Subcategoria', 'Nome do produto'])"
      ],
      "outputs": [],
      "metadata": {}
    },
    {
      "cell_type": "code",
      "execution_count": 174,
      "source": [
        "# Creating train test split\r\n",
        "import calendar\r\n",
        "dic = {'01': 'January', '02': 'February', '03': 'March', '04': 'April', '05': 'May','06': 'June', '07': 'July', '08': 'August', '09': 'September', '10': 'October', '11': 'November', '12': 'December'}\r\n",
        "dic = dict((v,k) for k,v in dic.items())\r\n",
        "df['Mes'] = (df['mes'].apply(lambda X: dic[X])).astype(int)\r\n",
        "y = df['Vendas']\r\n",
        "x = df.drop(columns=['mes', 'Vendas'])\r\n",
        "print(x)"
      ],
      "outputs": [
        {
          "output_type": "stream",
          "name": "stdout",
          "text": [
            "      index   Data_ped   Data_env   Modo de envio   Nome do cliente  \\\n",
            "0         0 2017-11-08 2017-11-11    Second Class       Claire Gute   \n",
            "1         1 2017-11-08 2017-11-11    Second Class       Claire Gute   \n",
            "2         2 2017-06-12 2017-06-16    Second Class   Darrin Van Huff   \n",
            "3         3 2016-10-11 2016-10-18  Standard Class    Sean O'Donnell   \n",
            "4         4 2016-10-11 2016-10-18  Standard Class    Sean O'Donnell   \n",
            "...     ...        ...        ...             ...               ...   \n",
            "9672   9795 2017-05-21 2017-05-28  Standard Class     Sally Hughsby   \n",
            "9673   9796 2016-01-12 2016-01-17  Standard Class  Cindy Schnelling   \n",
            "9674   9797 2016-01-12 2016-01-17  Standard Class  Cindy Schnelling   \n",
            "9675   9798 2016-01-12 2016-01-17  Standard Class  Cindy Schnelling   \n",
            "9676   9799 2016-01-12 2016-01-17  Standard Class  Cindy Schnelling   \n",
            "\n",
            "               Cidade    ID do produto        Categoria Subcategoria  \\\n",
            "0           Henderson  FUR-BO-10001798        Furniture    Bookcases   \n",
            "1           Henderson  FUR-CH-10000454        Furniture       Chairs   \n",
            "2         Los Angeles  OFF-LA-10000240  Office Supplies       Labels   \n",
            "3     Fort Lauderdale  FUR-TA-10000577        Furniture       Tables   \n",
            "4     Fort Lauderdale  OFF-ST-10000760  Office Supplies      Storage   \n",
            "...               ...              ...              ...          ...   \n",
            "9672          Chicago  OFF-BI-10003429  Office Supplies      Binders   \n",
            "9673           Toledo  OFF-AR-10001374  Office Supplies          Art   \n",
            "9674           Toledo  TEC-PH-10004977       Technology       Phones   \n",
            "9675           Toledo  TEC-PH-10000912       Technology       Phones   \n",
            "9676           Toledo  TEC-AC-10000487       Technology  Accessories   \n",
            "\n",
            "                                        Nome do produto   ano  dia  Mes  \n",
            "0                     Bush Somerset Collection Bookcase  2017    8   11  \n",
            "1     Hon Deluxe Fabric Upholstered Stacking Chairs,...  2017    8   11  \n",
            "2     Self-Adhesive Address Labels for Typewriters b...  2017   12    6  \n",
            "3         Bretford CR4500 Series Slim Rectangular Table  2016   11   10  \n",
            "4                        Eldon Fold 'N Roll Cart System  2016   11   10  \n",
            "...                                                 ...   ...  ...  ...  \n",
            "9672  Cardinal HOLDit! Binder Insert Strips,Extra St...  2017   21    5  \n",
            "9673           BIC Brite Liner Highlighters, Chisel Tip  2016   12    1  \n",
            "9674                                        GE 30524EE4  2016   12    1  \n",
            "9675           Anker 24W Portable Micro USB Car Charger  2016   12    1  \n",
            "9676                SanDisk Cruzer 4 GB USB Flash Drive  2016   12    1  \n",
            "\n",
            "[9677 rows x 13 columns]\n"
          ]
        }
      ],
      "metadata": {
        "ExecuteTime": {
          "end_time": "2021-06-12T14:53:30.266824Z",
          "start_time": "2021-06-12T14:53:30.261222Z"
        }
      }
    },
    {
      "cell_type": "code",
      "execution_count": 175,
      "source": [
        "from sklearn.neural_network import MLPRegressor\r\n",
        "from sklearn.datasets import make_regression\r\n",
        "from sklearn.model_selection import train_test_split"
      ],
      "outputs": [],
      "metadata": {}
    },
    {
      "cell_type": "code",
      "execution_count": 176,
      "source": [
        "X, y = make_regression(n_samples=9677)\r\n",
        "X_train, X_test, y_train, y_test = train_test_split(X, y,random_state=1)\r\n",
        "regr = MLPRegressor(random_state=1, max_iter=1500).fit(X_train, y_train)\r\n",
        "regr.predict(X_test[:5000]) #metodo multicamadas\r\n",
        "regr.score(X_test, y_test)"
      ],
      "outputs": [
        {
          "output_type": "execute_result",
          "data": {
            "text/plain": [
              "0.999508088158644"
            ]
          },
          "metadata": {},
          "execution_count": 176
        }
      ],
      "metadata": {}
    },
    {
      "cell_type": "code",
      "execution_count": 171,
      "source": [
        "y_test=pd.DataFrame(y_test,columns=['y_test'])\r\n",
        "y_test.to_csv(r'./teste.csv', encoding='utf-8', header='true')\r\n",
        "y_test.head(25)\r\n",
        "print(y_test)"
      ],
      "outputs": [
        {
          "output_type": "stream",
          "name": "stdout",
          "text": [
            "      y_test\n",
            "0       9.86\n",
            "1    -235.25\n",
            "2      64.96\n",
            "3    -197.53\n",
            "4      55.37\n",
            "...      ...\n",
            "2415   66.81\n",
            "2416  123.63\n",
            "2417   31.51\n",
            "2418   70.99\n",
            "2419  -41.24\n",
            "\n",
            "[2420 rows x 1 columns]\n"
          ]
        }
      ],
      "metadata": {}
    },
    {
      "cell_type": "markdown",
      "source": [
        "Resultados não satisfatorios valores de vendas negativos. mesmo com a variação de parametros, vou verificar com arvore de decisão, um algoritimo de classificação"
      ],
      "metadata": {}
    },
    {
      "cell_type": "code",
      "execution_count": 160,
      "source": [
        "!pip install.packages(\"e1071\")"
      ],
      "outputs": [
        {
          "output_type": "stream",
          "name": "stderr",
          "text": [
            "ERROR: unknown command \"install.packages(e1071)\"\n",
            "\n"
          ]
        }
      ],
      "metadata": {}
    },
    {
      "cell_type": "code",
      "execution_count": 163,
      "source": [
        "from sklearn.tree import DecisionTreeClassifier\r\n",
        "\r\n",
        "tree_classifier = DecisionTreeClassifier()\r\n",
        "tree_classifier.fit(X_train, y_train)\r\n",
        "y_pred = tree_classifier.predict(X_test)\r\n",
        "\r\n",
        "tree_cm = confusion_matrix(y_pred, y_test)\r\n",
        "\r\n",
        "print('matriz de confusão:')\r\n",
        "print(tree_cm,'\\n')\r\n",
        "print('precisão: ',accuracy(tree_cm)*100, '%')\r\n",
        "classification_view(X_train, y_train, tree_classifier)"
      ],
      "outputs": [
        {
          "output_type": "error",
          "ename": "ValueError",
          "evalue": "Unknown label type: 'continuous'",
          "traceback": [
            "\u001b[1;31m---------------------------------------------------------------------------\u001b[0m",
            "\u001b[1;31mValueError\u001b[0m                                Traceback (most recent call last)",
            "\u001b[1;32m<ipython-input-163-03a7d6f2096f>\u001b[0m in \u001b[0;36m<module>\u001b[1;34m\u001b[0m\n\u001b[0;32m      2\u001b[0m \u001b[1;33m\u001b[0m\u001b[0m\n\u001b[0;32m      3\u001b[0m \u001b[0mtree_classifier\u001b[0m \u001b[1;33m=\u001b[0m \u001b[0mDecisionTreeClassifier\u001b[0m\u001b[1;33m(\u001b[0m\u001b[1;33m)\u001b[0m\u001b[1;33m\u001b[0m\u001b[1;33m\u001b[0m\u001b[0m\n\u001b[1;32m----> 4\u001b[1;33m \u001b[0mtree_classifier\u001b[0m\u001b[1;33m.\u001b[0m\u001b[0mfit\u001b[0m\u001b[1;33m(\u001b[0m\u001b[0mX_train\u001b[0m\u001b[1;33m,\u001b[0m \u001b[0my_train\u001b[0m\u001b[1;33m)\u001b[0m\u001b[1;33m\u001b[0m\u001b[1;33m\u001b[0m\u001b[0m\n\u001b[0m\u001b[0;32m      5\u001b[0m \u001b[0my_pred\u001b[0m \u001b[1;33m=\u001b[0m \u001b[0mtree_classifier\u001b[0m\u001b[1;33m.\u001b[0m\u001b[0mpredict\u001b[0m\u001b[1;33m(\u001b[0m\u001b[0mX_test\u001b[0m\u001b[1;33m)\u001b[0m\u001b[1;33m\u001b[0m\u001b[1;33m\u001b[0m\u001b[0m\n\u001b[0;32m      6\u001b[0m \u001b[1;33m\u001b[0m\u001b[0m\n",
            "\u001b[1;32m~\\anaconda3\\lib\\site-packages\\sklearn\\tree\\_classes.py\u001b[0m in \u001b[0;36mfit\u001b[1;34m(self, X, y, sample_weight, check_input, X_idx_sorted)\u001b[0m\n\u001b[0;32m    888\u001b[0m         \"\"\"\n\u001b[0;32m    889\u001b[0m \u001b[1;33m\u001b[0m\u001b[0m\n\u001b[1;32m--> 890\u001b[1;33m         super().fit(\n\u001b[0m\u001b[0;32m    891\u001b[0m             \u001b[0mX\u001b[0m\u001b[1;33m,\u001b[0m \u001b[0my\u001b[0m\u001b[1;33m,\u001b[0m\u001b[1;33m\u001b[0m\u001b[1;33m\u001b[0m\u001b[0m\n\u001b[0;32m    892\u001b[0m             \u001b[0msample_weight\u001b[0m\u001b[1;33m=\u001b[0m\u001b[0msample_weight\u001b[0m\u001b[1;33m,\u001b[0m\u001b[1;33m\u001b[0m\u001b[1;33m\u001b[0m\u001b[0m\n",
            "\u001b[1;32m~\\anaconda3\\lib\\site-packages\\sklearn\\tree\\_classes.py\u001b[0m in \u001b[0;36mfit\u001b[1;34m(self, X, y, sample_weight, check_input, X_idx_sorted)\u001b[0m\n\u001b[0;32m    179\u001b[0m \u001b[1;33m\u001b[0m\u001b[0m\n\u001b[0;32m    180\u001b[0m         \u001b[1;32mif\u001b[0m \u001b[0mis_classification\u001b[0m\u001b[1;33m:\u001b[0m\u001b[1;33m\u001b[0m\u001b[1;33m\u001b[0m\u001b[0m\n\u001b[1;32m--> 181\u001b[1;33m             \u001b[0mcheck_classification_targets\u001b[0m\u001b[1;33m(\u001b[0m\u001b[0my\u001b[0m\u001b[1;33m)\u001b[0m\u001b[1;33m\u001b[0m\u001b[1;33m\u001b[0m\u001b[0m\n\u001b[0m\u001b[0;32m    182\u001b[0m             \u001b[0my\u001b[0m \u001b[1;33m=\u001b[0m \u001b[0mnp\u001b[0m\u001b[1;33m.\u001b[0m\u001b[0mcopy\u001b[0m\u001b[1;33m(\u001b[0m\u001b[0my\u001b[0m\u001b[1;33m)\u001b[0m\u001b[1;33m\u001b[0m\u001b[1;33m\u001b[0m\u001b[0m\n\u001b[0;32m    183\u001b[0m \u001b[1;33m\u001b[0m\u001b[0m\n",
            "\u001b[1;32m~\\anaconda3\\lib\\site-packages\\sklearn\\utils\\multiclass.py\u001b[0m in \u001b[0;36mcheck_classification_targets\u001b[1;34m(y)\u001b[0m\n\u001b[0;32m    170\u001b[0m     if y_type not in ['binary', 'multiclass', 'multiclass-multioutput',\n\u001b[0;32m    171\u001b[0m                       'multilabel-indicator', 'multilabel-sequences']:\n\u001b[1;32m--> 172\u001b[1;33m         \u001b[1;32mraise\u001b[0m \u001b[0mValueError\u001b[0m\u001b[1;33m(\u001b[0m\u001b[1;34m\"Unknown label type: %r\"\u001b[0m \u001b[1;33m%\u001b[0m \u001b[0my_type\u001b[0m\u001b[1;33m)\u001b[0m\u001b[1;33m\u001b[0m\u001b[1;33m\u001b[0m\u001b[0m\n\u001b[0m\u001b[0;32m    173\u001b[0m \u001b[1;33m\u001b[0m\u001b[0m\n\u001b[0;32m    174\u001b[0m \u001b[1;33m\u001b[0m\u001b[0m\n",
            "\u001b[1;31mValueError\u001b[0m: Unknown label type: 'continuous'"
          ]
        }
      ],
      "metadata": {}
    }
  ]
}